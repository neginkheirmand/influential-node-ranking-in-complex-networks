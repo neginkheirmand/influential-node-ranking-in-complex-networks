{
 "cells": [
  {
   "cell_type": "code",
   "execution_count": 3,
   "metadata": {},
   "outputs": [],
   "source": [
    "import os \n",
    "import json"
   ]
  },
  {
   "cell_type": "code",
   "execution_count": 4,
   "metadata": {},
   "outputs": [],
   "source": [
    "\n",
    "def get_ba_graph_paths(dataset_dir= \"./datasets/\"):\n",
    "    graph_list = []\n",
    "    for dirpath, _, files in os.walk(dataset_dir):\n",
    "        for filename in files:\n",
    "            try:\n",
    "                if filename.startswith(\"ba_edgelist\") and filename.endswith(\".edges\"):\n",
    "                    file_path = os.path.join(dirpath, filename) \n",
    "                    graph_list.append((file_path, os.path.splitext(filename)[0]))\n",
    "            except Exception as e: \n",
    "                print(e, f'{filename}')\n",
    "    return graph_list"
   ]
  },
  {
   "cell_type": "code",
   "execution_count": 5,
   "metadata": {},
   "outputs": [],
   "source": [
    "temp = get_ba_graph_paths()\n",
    "di = {}\n",
    "di['BA_mch'] = [item[1] for item in temp]\n",
    "di['negin_mch'] = ['CA-GrQc', 'CA-HepTh', 'faa', 'facebook_combined', 'figeys', 'email', 'NS', 'Peh_edge', 'Stelzl', 'tvshow_edges', 'vidal', 'web-EPA']\n",
    "di['mhd_mch'] = ['ChicagoRegional', 'jazz', 'ia-crime-moreno', 'arenas-pgp', 'LastFM', 'maybe-PROTEINS-full', 'p2p-Gnutella04', 'sex']\n",
    "with open('machine.json', 'w') as f:\n",
    "    json.dump(di, f)\n"
   ]
  },
  {
   "cell_type": "code",
   "execution_count": 6,
   "metadata": {},
   "outputs": [],
   "source": [
    "import networkx as nx\n",
    "import pandas as pd\n",
    "\n",
    "\n",
    "def get_graph_paths(dataset_dir= \"./datasets/\"):\n",
    "    graph_list = []\n",
    "    for dirpath, _, files in os.walk(dataset_dir):\n",
    "        for filename in files:\n",
    "            try:\n",
    "                if filename.endswith(\".edges\"):\n",
    "                    file_path = os.path.join(dirpath, filename) \n",
    "                    graph_list.append((file_path, os.path.splitext(filename)[0]))\n",
    "            except Exception as e: \n",
    "                print(e, f'{filename}')\n",
    "    return graph_list\n",
    "\n",
    "\n",
    "def get_sir_graph_paths(net_name, num_b=3,  result_path = './datasets/SIR_Results/'):\n",
    "    paths= []\n",
    "    for i in range(num_b):\n",
    "        sir_dir =os.path.join(result_path, net_name)\n",
    "        sir_dir = os.path.join(sir_dir, f'{i}.csv')\n",
    "        paths.append(sir_dir)\n",
    "    return paths\n",
    "\n",
    "\n",
    "def get_previously_sim_values(sir_graph_path):\n",
    "    try:\n",
    "        df = pd.read_csv(sir_graph_path)\n",
    "        values = df['Node'].tolist()\n",
    "        return values\n",
    "    except OSError as e:\n",
    "        return []\n",
    "\n",
    "def getTotalNumNodes(net_name):\n",
    "    graph_list = get_graph_paths()\n",
    "    path = ''\n",
    "    for tmp in graph_list:\n",
    "        if tmp[1]==net_name:\n",
    "            path = tmp[0]\n",
    "            \n",
    "    G = nx.read_edgelist(path, comments=\"%\", nodetype=int)\n",
    "    return G.number_of_nodes()\n",
    "\n",
    "def getSimNumNodes(net_name):\n",
    "    sir_paths = get_sir_graph_paths(net_name)\n",
    "    temp = [  len(get_previously_sim_values(path)) for path in sir_paths ]\n",
    "    return (temp)\n",
    "\n",
    "\n",
    "\n"
   ]
  },
  {
   "cell_type": "markdown",
   "metadata": {},
   "source": [
    "## sort files\n",
    "\n"
   ]
  },
  {
   "cell_type": "code",
   "execution_count": 7,
   "metadata": {},
   "outputs": [
    {
     "name": "stdout",
     "output_type": "stream",
     "text": [
      "BA_mch : \n",
      "1 ) ba_edgelist_1000_10   process: [488, 488, 488] / 1000  sorted: True\n",
      "2 ) ba_edgelist_1000_20   process: [0, 0, 0] / 1000  sorted: True\n",
      "3 ) ba_edgelist_1000_4   process: [0, 0, 0] / 1000  sorted: True\n",
      "4 ) ba_edgelist_2000_10   process: [0, 0, 0] / 2000  sorted: True\n",
      "5 ) ba_edgelist_2000_20   process: [0, 0, 0] / 2000  sorted: True\n",
      "6 ) ba_edgelist_2000_4   process: [0, 0, 0] / 2000  sorted: True\n",
      "7 ) ba_edgelist_3000_10   process: [161, 161, 161] / 3000  sorted: True\n",
      "8 ) ba_edgelist_3000_20   process: [0, 0, 0] / 3000  sorted: True\n",
      "9 ) ba_edgelist_3000_4   process: [0, 0, 0] / 3000  sorted: True\n",
      "10 ) ba_edgelist_exp1_3000_4   process: [0, 0, 0] / 3000  sorted: True\n",
      "11 ) ba_edgelist_exp1_4000_4   process: [0, 0, 0] / 4000  sorted: True\n",
      "12 ) ba_edgelist_exp1_5000_4   process: [0, 0, 0] / 5000  sorted: True\n",
      "13 ) ba_edgelist_exp1_6000_4   process: [0, 0, 0] / 6000  sorted: True\n",
      "14 ) ba_edgelist_exp1_7000_4   process: [0, 0, 0] / 7000  sorted: True\n",
      "15 ) ba_edgelist_exp1_8000_4   process: [0, 0, 0] / 8000  sorted: True\n",
      "16 ) ba_edgelist_exp2_2000_10   process: [0, 0, 0] / 2000  sorted: True\n",
      "17 ) ba_edgelist_exp2_2000_20   process: [0, 0, 0] / 2000  sorted: True\n",
      "18 ) ba_edgelist_exp2_2000_4   process: [0, 0, 0] / 2000  sorted: True\n",
      "19 ) ba_edgelist_exp3_4000_10   process: [0, 0, 0] / 4000  sorted: True\n",
      "20 ) ba_edgelist_exp3_4000_2   process: [0, 0, 0] / 4000  sorted: True\n",
      "21 ) ba_edgelist_exp3_4000_6   process: [0, 0, 0] / 4000  sorted: True\n",
      "-----------------\n",
      "negin_mch : \n",
      "###  1 ) CA-GrQc   process: [259, 259, 259] / 5242  sorted: False ### \n",
      "###  2 ) CA-HepTh   process: [27, 27, 27] / 9877  sorted: False ### \n",
      "3 ) faa   process: [261, 261, 261] / 1226  sorted: True\n",
      "4 ) facebook_combined   process: [382, 382, 382] / 4039  sorted: True\n",
      "5 ) figeys   process: [49, 49, 49] / 2239  sorted: True\n",
      "6 ) email   process: [1133, 1133, 1133] / 1133  sorted: True\n",
      "7 ) NS   process: [11, 11, 11] / 1461  sorted: True\n",
      "8 ) Peh_edge   process: [0, 0, 0] / 2426  sorted: True\n",
      "9 ) Stelzl   process: [0, 0, 0] / 1706  sorted: True\n",
      "10 ) tvshow_edges   process: [0, 0, 0] / 3892  sorted: True\n",
      "11 ) vidal   process: [0, 0, 0] / 3133  sorted: True\n",
      "12 ) web-EPA   process: [0, 0, 0] / 4271  sorted: True\n",
      "-----------------\n",
      "mhd_mch : \n",
      "1 ) ChicagoRegional   process: [292, 292, 292] / 12979  sorted: True\n",
      "2 ) jazz   process: [198, 198, 198] / 198  sorted: True\n",
      "3 ) ia-crime-moreno   process: [528, 528, 528] / 829  sorted: True\n",
      "4 ) arenas-pgp   process: [353, 353, 353] / 10680  sorted: True\n",
      "5 ) LastFM   process: [60, 60, 60] / 7624  sorted: True\n",
      "6 ) maybe-PROTEINS-full   process: [9, 9, 9] / 43466  sorted: True\n",
      "7 ) p2p-Gnutella04   process: [0, 0, 0] / 10876  sorted: True\n",
      "8 ) sex   process: [0, 0, 0] / 10106  sorted: True\n",
      "-----------------\n"
     ]
    }
   ],
   "source": [
    "\n",
    "notsorted = [] \n",
    "noteq = []\n",
    "for mch in di.keys():\n",
    "    print(mch, \": \")\n",
    "    i = 0\n",
    "\n",
    "\n",
    "    for net in di[mch]:\n",
    "        i+=1\n",
    "        simNumNodes = getSimNumNodes(net)\n",
    "        totalNumNodes = getTotalNumNodes(net)\n",
    "        sortd = sorted(get_previously_sim_values(get_sir_graph_paths(net)[0])) ==get_previously_sim_values(get_sir_graph_paths(net)[0])\n",
    "        if not sortd :\n",
    "            notsorted.append(net)\n",
    "            print('### ', i, \")\", net, \"  process:\", simNumNodes, '/',  totalNumNodes, ' sorted:', sortd, '### ')\n",
    "        elif not( simNumNodes[0]==simNumNodes[1] and simNumNodes[1]==simNumNodes[2]) :\n",
    "            noteq.append(net)\n",
    "            print('$$$ ', i, \")\", net, \"  process:\", simNumNodes, '/',  totalNumNodes, ' sorted:', sortd, ('$$$ '))\n",
    "        else:\n",
    "            print( i, \")\", net, \"  process:\", simNumNodes, '/',  totalNumNodes, ' sorted:', sortd)\n",
    "    print(\"-----------------\")"
   ]
  },
  {
   "cell_type": "markdown",
   "metadata": {},
   "source": [
    "## Sort and save"
   ]
  },
  {
   "cell_type": "code",
   "execution_count": 8,
   "metadata": {},
   "outputs": [],
   "source": [
    "run = False\n"
   ]
  },
  {
   "cell_type": "code",
   "execution_count": 9,
   "metadata": {},
   "outputs": [],
   "source": [
    "if run:\n",
    "    for net in notsorted:\n",
    "        sir_paths = get_sir_graph_paths(net)\n",
    "        i = 0\n",
    "        for path in sir_paths:\n",
    "            i+=1\n",
    "            df = pd.read_csv(path)\n",
    "            df_sorted = df.sort_values(by='Node')\n",
    "            df_sorted.to_csv(path, index=False)"
   ]
  }
 ],
 "metadata": {
  "kernelspec": {
   "display_name": "venv",
   "language": "python",
   "name": "python3"
  },
  "language_info": {
   "codemirror_mode": {
    "name": "ipython",
    "version": 3
   },
   "file_extension": ".py",
   "mimetype": "text/x-python",
   "name": "python",
   "nbconvert_exporter": "python",
   "pygments_lexer": "ipython3",
   "version": "3.12.1"
  }
 },
 "nbformat": 4,
 "nbformat_minor": 2
}
