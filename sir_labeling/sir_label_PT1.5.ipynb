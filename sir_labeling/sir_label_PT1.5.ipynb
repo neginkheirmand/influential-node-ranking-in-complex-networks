{
 "cells": [
  {
   "cell_type": "code",
   "execution_count": 43,
   "metadata": {},
   "outputs": [],
   "source": [
    "import networkx as nx\n",
    "import ndlib.models.ModelConfig as mc\n",
    "import ndlib.models.epidemics as ep\n",
    "import numpy as np\n",
    "%matplotlib widget\n",
    "import matplotlib.pyplot as plt\n",
    "from ndlib.viz.mpl.DiffusionTrend import DiffusionTrend\n"
   ]
  },
  {
   "cell_type": "code",
   "execution_count": null,
   "metadata": {},
   "outputs": [],
   "source": [
    "\n",
    "# Create a graph (e.g., Erdős-Rényi graph)\n",
    "# G = nx.erdos_renyi_graph(n=100, p=0.1)\n",
    "\n",
    "G = nx.read_edgelist('./../datasets/BA_EXP/ba_edgelist_exp3_4000_10.edges', comments=\"%\", nodetype=int)"
   ]
  },
  {
   "cell_type": "code",
   "execution_count": 45,
   "metadata": {},
   "outputs": [
    {
     "data": {
      "text/plain": [
       "4000"
      ]
     },
     "execution_count": 45,
     "metadata": {},
     "output_type": "execute_result"
    }
   ],
   "source": [
    "G.number_of_nodes()"
   ]
  },
  {
   "cell_type": "code",
   "execution_count": 46,
   "metadata": {},
   "outputs": [],
   "source": [
    "\n",
    "\n",
    "# Get the mean degree (k) of the graph\n",
    "degrees = [deg for _, deg in G.degree()]\n",
    "mean_degree = np.mean(degrees)\n",
    "\n",
    "# Calculate B_Threshold\n",
    "B_Threshold = mean_degree / (mean_degree**2 - mean_degree)\n",
    "\n",
    "# Range of B values\n",
    "B_values = np.linspace(1 * B_Threshold, 1.9 * B_Threshold, 5)\n",
    "\n",
    "# Number of iterations (M)\n",
    "num_iterations = 100\n",
    "num_nodes = G.number_of_nodes()\n",
    "\n",
    "affected_scales = {}\n"
   ]
  },
  {
   "cell_type": "code",
   "execution_count": 47,
   "metadata": {},
   "outputs": [
    {
     "data": {
      "text/plain": [
       "array([0.11126565, 0.13630042, 0.16133519, 0.18636996, 0.21140473])"
      ]
     },
     "execution_count": 47,
     "metadata": {},
     "output_type": "execute_result"
    }
   ],
   "source": [
    "B_values"
   ]
  },
  {
   "cell_type": "code",
   "execution_count": 48,
   "metadata": {},
   "outputs": [
    {
     "name": "stdout",
     "output_type": "stream",
     "text": [
      "9.9875\n",
      "250.301\n"
     ]
    },
    {
     "data": {
      "text/plain": [
       "array([0.0415603 , 0.05195037, 0.06234044, 0.07273052, 0.08312059])"
      ]
     },
     "execution_count": 48,
     "metadata": {},
     "output_type": "execute_result"
    }
   ],
   "source": [
    "print(mean_degree)\n",
    "\n",
    "# Second moment (mean of squared degrees)\n",
    "mean_degree_squared = np.mean([deg**2 for deg in degrees])\n",
    "print(mean_degree_squared)\n",
    "\n",
    "# Epidemic threshold (B_Threshold)\n",
    "B_Threshold = mean_degree / (mean_degree_squared - mean_degree)\n",
    "# Range of B values\n",
    "B_values = np.linspace(1 * B_Threshold, 2 * B_Threshold, 5)\n",
    "B_values"
   ]
  },
  {
   "cell_type": "code",
   "execution_count": 49,
   "metadata": {},
   "outputs": [
    {
     "name": "stdout",
     "output_type": "stream",
     "text": [
      "{0: 3921, 1: 0, 2: 79}\n",
      "{0: 3980, 1: 0, 2: 20}\n",
      "{0: 3996, 1: 0, 2: 4}\n",
      "{0: 3953, 1: 0, 2: 47}\n",
      "{0: 3979, 1: 0, 2: 21}\n",
      "{0: 3970, 1: 0, 2: 30}\n",
      "{0: 3993, 1: 0, 2: 7}\n",
      "{0: 3969, 1: 0, 2: 31}\n",
      "{0: 3909, 1: 0, 2: 91}\n",
      "{0: 3976, 1: 0, 2: 24}\n",
      "{0: 3972, 1: 0, 2: 28}\n",
      "{0: 3753, 1: 0, 2: 247}\n",
      "{0: 3977, 1: 0, 2: 23}\n",
      "{0: 3995, 1: 0, 2: 5}\n",
      "{0: 3978, 1: 0, 2: 22}\n",
      "{0: 3716, 1: 0, 2: 284}\n",
      "{0: 3873, 1: 0, 2: 127}\n",
      "{0: 3928, 1: 0, 2: 72}\n",
      "{0: 3978, 1: 0, 2: 22}\n",
      "{0: 3711, 1: 0, 2: 289}\n",
      "{0: 3594, 1: 0, 2: 406}\n",
      "{0: 3561, 1: 0, 2: 439}\n",
      "{0: 3870, 1: 0, 2: 130}\n",
      "{0: 3834, 1: 0, 2: 166}\n",
      "{0: 3566, 1: 0, 2: 434}\n",
      "{0: 3568, 1: 0, 2: 432}\n",
      "{0: 3587, 1: 0, 2: 413}\n",
      "{0: 3967, 1: 0, 2: 33}\n",
      "{0: 3518, 1: 0, 2: 482}\n",
      "{0: 3577, 1: 0, 2: 423}\n",
      "{0: 3388, 1: 0, 2: 612}\n",
      "{0: 3269, 1: 0, 2: 731}\n",
      "{0: 3295, 1: 0, 2: 705}\n",
      "{0: 3213, 1: 0, 2: 787}\n",
      "{0: 3490, 1: 0, 2: 510}\n",
      "{0: 3343, 1: 0, 2: 657}\n",
      "{0: 3334, 1: 0, 2: 666}\n",
      "{0: 3334, 1: 0, 2: 666}\n",
      "{0: 3398, 1: 0, 2: 602}\n",
      "{0: 3305, 1: 0, 2: 695}\n",
      "{0: 3067, 1: 0, 2: 933}\n",
      "{0: 3077, 1: 0, 2: 923}\n",
      "{0: 3040, 1: 0, 2: 960}\n",
      "{0: 3039, 1: 0, 2: 961}\n",
      "{0: 3131, 1: 0, 2: 869}\n",
      "{0: 2929, 1: 0, 2: 1071}\n",
      "{0: 3113, 1: 0, 2: 887}\n",
      "{0: 3178, 1: 0, 2: 822}\n",
      "{0: 3950, 1: 0, 2: 50}\n",
      "{0: 3029, 1: 0, 2: 971}\n"
     ]
    }
   ],
   "source": [
    "\n",
    "infected_scales = {}\n",
    "for B in B_values:\n",
    "    recovered_sum = 0  # To store the sum of recovered nodes across all iterations\n",
    "    infected_sum = 0\n",
    "    # Store trends for plotting\n",
    "    trends = []\n",
    "\n",
    "    for i in range(num_iterations):\n",
    "        # Initialize the SIR model\n",
    "        model = ep.SIRModel(G)\n",
    "        \n",
    "        # Configuration setup\n",
    "        config = mc.Configuration()\n",
    "        config.add_model_parameter('beta', B)  # Set infection rate to current B\n",
    "        config.add_model_parameter('gamma', 1.0)  # Recovery probability = 1\n",
    "        config.add_model_initial_configuration(\"Infected\", {0: 1})  # Start with node 0 infected\n",
    "        \n",
    "        # Set the model configuration\n",
    "        model.set_initial_status(config)\n",
    "        \n",
    "        iteration = None\n",
    "        # Run the model until all nodes are either recovered or susceptible\n",
    "        for step in range(200):  # Maximum 200 steps\n",
    "            iteration = model.iteration()\n",
    "            trends.append(model.build_trends([iteration]))\n",
    "            \n",
    "            # Check if all nodes are either recovered or susceptible (no infected nodes left)\n",
    "            if iteration['node_count'][1] == 0:  # Index 1 corresponds to 'Infected'\n",
    "                break  # Exit the loop if no infected nodes remain\n",
    "        \n",
    "        # Get the final state after the infection spread\n",
    "        final_state = iteration['node_count']\n",
    "        if i%10==0:\n",
    "            print(final_state)\n",
    "        recovered_nodes = final_state[2]  # Index 2 represents 'Recovered' nodes\n",
    "        recovered_sum += recovered_nodes\n",
    "        infected_sum += final_state[1]\n",
    "\n",
    "    \n",
    "    # Calculate the affected scale for the current B\n",
    "    affected_scale = recovered_sum / (num_iterations * num_nodes)\n",
    "    affected_scales[round(B, 3)] = round(affected_scale, 3)\n",
    "    infected_scales[round(B, 3)] = infected_sum \n",
    "    \n",
    "    susceptible_values = []\n",
    "    infected_values = []\n",
    "    recovered_values = []\n",
    "    \n",
    "    for trend_list in trends:  # Iterating over the list of trend data\n",
    "        for trend_dict in trend_list:  # Extracting the trend dictionaries\n",
    "            if 'trends' in trend_dict:  # Ensure the dictionary contains 'trends'\n",
    "                node_count = trend_dict['trends']['node_count']\n",
    "                if len(node_count) >= 3:\n",
    "                    susceptible_values.append(node_count[0][0])  # Susceptible\n",
    "                    infected_values.append(node_count[1][0])  # Infected\n",
    "                    recovered_values.append(node_count[2][0])  # Recovered\n",
    "\n",
    "    plt.figure()\n",
    "    plt.scatter(range(len(susceptible_values)), susceptible_values, label='Susceptible', marker='o')\n",
    "    plt.scatter(range(len(recovered_values)), recovered_values, label='Recovered', marker='^')\n",
    "    plt.scatter(range(len(infected_values)), infected_values, label='Infected', marker='x')\n",
    "    plt.title(f\"Diffusion Trend for B={round(B, 3)} - Iteration {i+1}\")\n",
    "    plt.xlabel(\"Time Step\")\n",
    "    plt.ylabel(\"Number of Nodes\")\n",
    "    plt.legend()\n",
    "    plt.savefig(f\"plot_for_B={round(B, 3)}.png\", dpi=300)\n",
    "    plt.close()\n"
   ]
  },
  {
   "cell_type": "code",
   "execution_count": 51,
   "metadata": {},
   "outputs": [
    {
     "name": "stdout",
     "output_type": "stream",
     "text": [
      "B = 0.042: Affected scale = 0.01, infected_avg = 0\n",
      "B = 0.052: Affected scale = 0.027, infected_avg = 0\n",
      "B = 0.062: Affected scale = 0.08, infected_avg = 0\n",
      "B = 0.073: Affected scale = 0.158, infected_avg = 0\n",
      "B = 0.083: Affected scale = 0.224, infected_avg = 0\n",
      "{np.float64(0.042): 0.01, np.float64(0.052): 0.027, np.float64(0.062): 0.08, np.float64(0.073): 0.158, np.float64(0.083): 0.224}\n",
      "{np.float64(0.042): 0, np.float64(0.052): 0, np.float64(0.062): 0, np.float64(0.073): 0, np.float64(0.083): 0}\n"
     ]
    }
   ],
   "source": [
    "\n",
    "# Output the affected scales for each B\n",
    "for B, scale in affected_scales.items():\n",
    "    print(f\"B = {B}: Affected scale = {scale}, infected_avg = {infected_scales[B]}\")\n",
    "print(affected_scales)\n",
    "print(infected_scales)"
   ]
  }
 ],
 "metadata": {
  "kernelspec": {
   "display_name": "venv",
   "language": "python",
   "name": "python3"
  },
  "language_info": {
   "codemirror_mode": {
    "name": "ipython",
    "version": 3
   },
   "file_extension": ".py",
   "mimetype": "text/x-python",
   "name": "python",
   "nbconvert_exporter": "python",
   "pygments_lexer": "ipython3",
   "version": "3.12.1"
  }
 },
 "nbformat": 4,
 "nbformat_minor": 2
}
