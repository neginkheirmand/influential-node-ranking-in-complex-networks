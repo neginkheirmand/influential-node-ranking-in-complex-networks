{
 "cells": [
  {
   "cell_type": "code",
   "execution_count": 1,
   "metadata": {},
   "outputs": [
    {
     "name": "stdout",
     "output_type": "stream",
     "text": [
      "no display found. Using non-interactive Agg backend\n"
     ]
    }
   ],
   "source": [
    "import networkx as nx\n",
    "import ndlib.models.ModelConfig as mc\n",
    "import ndlib.models.epidemics as ep\n",
    "import numpy as np\n",
    "%matplotlib widget\n",
    "import matplotlib.pyplot as plt\n",
    "from ndlib.viz.mpl.DiffusionTrend import DiffusionTrend\n"
   ]
  },
  {
   "cell_type": "code",
   "execution_count": 2,
   "metadata": {},
   "outputs": [],
   "source": [
    "\n",
    "# Create a graph (e.g., Erdős-Rényi graph)\n",
    "# G = nx.erdos_renyi_graph(n=100, p=0.1)\n",
    "\n",
    "G = nx.read_edgelist('./../datasets/BA_EXP/ba_edgelist_exp3_4000_10.edges', comments=\"%\", nodetype=int)"
   ]
  },
  {
   "cell_type": "code",
   "execution_count": 3,
   "metadata": {},
   "outputs": [
    {
     "data": {
      "text/plain": [
       "4000"
      ]
     },
     "execution_count": 3,
     "metadata": {},
     "output_type": "execute_result"
    }
   ],
   "source": [
    "G.number_of_nodes()"
   ]
  },
  {
   "cell_type": "code",
   "execution_count": 4,
   "metadata": {},
   "outputs": [],
   "source": [
    "\n",
    "\n",
    "# Get the mean degree (k) of the graph\n",
    "degrees = [deg for _, deg in G.degree()]\n",
    "mean_degree = np.mean(degrees)\n",
    "\n",
    "# Calculate B_Threshold\n",
    "B_Threshold = mean_degree / (mean_degree**2 - mean_degree)\n",
    "\n",
    "# Range of B values\n",
    "B_values = np.linspace(1 * B_Threshold, 1.9 * B_Threshold, 5)\n",
    "\n",
    "# Number of iterations (M)\n",
    "num_iterations = 100\n",
    "num_nodes = G.number_of_nodes()\n",
    "\n",
    "affected_scales = {}\n"
   ]
  },
  {
   "cell_type": "code",
   "execution_count": 5,
   "metadata": {},
   "outputs": [
    {
     "data": {
      "text/plain": [
       "array([0.11126565, 0.13630042, 0.16133519, 0.18636996, 0.21140473])"
      ]
     },
     "execution_count": 5,
     "metadata": {},
     "output_type": "execute_result"
    }
   ],
   "source": [
    "B_values"
   ]
  },
  {
   "cell_type": "code",
   "execution_count": 6,
   "metadata": {},
   "outputs": [
    {
     "name": "stdout",
     "output_type": "stream",
     "text": [
      "9.9875\n",
      "250.301\n",
      "[1.  1.5 2. ]\n"
     ]
    },
    {
     "data": {
      "text/plain": [
       "array([0.0415603 , 0.06234044, 0.08312059])"
      ]
     },
     "execution_count": 6,
     "metadata": {},
     "output_type": "execute_result"
    }
   ],
   "source": [
    "print(mean_degree)\n",
    "\n",
    "# Second moment (mean of squared degrees)\n",
    "mean_degree_squared = np.mean([deg**2 for deg in degrees])\n",
    "print(mean_degree_squared)\n",
    "\n",
    "# Epidemic threshold (B_Threshold)\n",
    "B_Threshold = mean_degree / (mean_degree_squared - mean_degree)\n",
    "# Range of B values\n",
    "B_values = np.linspace(1 * B_Threshold, 2 * B_Threshold, 3)\n",
    "print(B_values/B_Threshold)\n",
    "B_values"
   ]
  },
  {
   "cell_type": "code",
   "execution_count": 7,
   "metadata": {},
   "outputs": [
    {
     "name": "stdout",
     "output_type": "stream",
     "text": [
      "{0: 3987, 1: 0, 2: 13}\n",
      "{0: 3986, 1: 0, 2: 14}\n",
      "{0: 3906, 1: 0, 2: 94}\n",
      "{0: 3984, 1: 0, 2: 16}\n",
      "{0: 3844, 1: 0, 2: 156}\n",
      "{0: 3936, 1: 0, 2: 64}\n",
      "{0: 3962, 1: 0, 2: 38}\n",
      "{0: 3875, 1: 0, 2: 125}\n",
      "{0: 3985, 1: 0, 2: 15}\n",
      "{0: 3921, 1: 0, 2: 79}\n",
      "{0: 3504, 1: 0, 2: 496}\n",
      "{0: 3435, 1: 0, 2: 565}\n",
      "{0: 3968, 1: 0, 2: 32}\n",
      "{0: 3862, 1: 0, 2: 138}\n",
      "{0: 3643, 1: 0, 2: 357}\n",
      "{0: 3568, 1: 0, 2: 432}\n",
      "{0: 3965, 1: 0, 2: 35}\n",
      "{0: 3539, 1: 0, 2: 461}\n",
      "{0: 3982, 1: 0, 2: 18}\n",
      "{0: 3649, 1: 0, 2: 351}\n",
      "{0: 3045, 1: 0, 2: 955}\n",
      "{0: 3070, 1: 0, 2: 930}\n",
      "{0: 3140, 1: 0, 2: 860}\n",
      "{0: 3087, 1: 0, 2: 913}\n",
      "{0: 3154, 1: 0, 2: 846}\n"
     ]
    },
    {
     "ename": "KeyboardInterrupt",
     "evalue": "",
     "output_type": "error",
     "traceback": [
      "\u001b[1;31m---------------------------------------------------------------------------\u001b[0m",
      "\u001b[1;31mKeyboardInterrupt\u001b[0m                         Traceback (most recent call last)",
      "Cell \u001b[1;32mIn[7], line 24\u001b[0m\n\u001b[0;32m     22\u001b[0m \u001b[38;5;66;03m# Run the model until all nodes are either recovered or susceptible\u001b[39;00m\n\u001b[0;32m     23\u001b[0m \u001b[38;5;28;01mfor\u001b[39;00m step \u001b[38;5;129;01min\u001b[39;00m \u001b[38;5;28mrange\u001b[39m(\u001b[38;5;241m200\u001b[39m):  \u001b[38;5;66;03m# Maximum 200 steps\u001b[39;00m\n\u001b[1;32m---> 24\u001b[0m     iteration \u001b[38;5;241m=\u001b[39m \u001b[43mmodel\u001b[49m\u001b[38;5;241;43m.\u001b[39;49m\u001b[43miteration\u001b[49m\u001b[43m(\u001b[49m\u001b[43m)\u001b[49m\n\u001b[0;32m     25\u001b[0m     trends\u001b[38;5;241m.\u001b[39mappend(model\u001b[38;5;241m.\u001b[39mbuild_trends([iteration]))\n\u001b[0;32m     27\u001b[0m     \u001b[38;5;66;03m# Check if all nodes are either recovered or susceptible (no infected nodes left)\u001b[39;00m\n",
      "File \u001b[1;32mc:\\Users\\venus\\Desktop\\spreading influence identification\\venv\\Lib\\site-packages\\ndlib\\models\\epidemics\\SIRModel.py:95\u001b[0m, in \u001b[0;36mSIRModel.iteration\u001b[1;34m(self, node_status)\u001b[0m\n\u001b[0;32m     92\u001b[0m         \u001b[38;5;28;01mif\u001b[39;00m eventp \u001b[38;5;241m<\u001b[39m \u001b[38;5;28mself\u001b[39m\u001b[38;5;241m.\u001b[39mparams[\u001b[38;5;124m'\u001b[39m\u001b[38;5;124mmodel\u001b[39m\u001b[38;5;124m'\u001b[39m][\u001b[38;5;124m'\u001b[39m\u001b[38;5;124mgamma\u001b[39m\u001b[38;5;124m'\u001b[39m]:\n\u001b[0;32m     93\u001b[0m             actual_status[u] \u001b[38;5;241m=\u001b[39m \u001b[38;5;241m2\u001b[39m\n\u001b[1;32m---> 95\u001b[0m delta, node_count, status_delta \u001b[38;5;241m=\u001b[39m \u001b[38;5;28;43mself\u001b[39;49m\u001b[38;5;241;43m.\u001b[39;49m\u001b[43mstatus_delta\u001b[49m\u001b[43m(\u001b[49m\u001b[43mactual_status\u001b[49m\u001b[43m)\u001b[49m\n\u001b[0;32m     96\u001b[0m \u001b[38;5;28mself\u001b[39m\u001b[38;5;241m.\u001b[39mstatus \u001b[38;5;241m=\u001b[39m actual_status\n\u001b[0;32m     97\u001b[0m \u001b[38;5;28mself\u001b[39m\u001b[38;5;241m.\u001b[39mactual_iteration \u001b[38;5;241m+\u001b[39m\u001b[38;5;241m=\u001b[39m \u001b[38;5;241m1\u001b[39m\n",
      "File \u001b[1;32mc:\\Users\\venus\\Desktop\\spreading influence identification\\venv\\Lib\\site-packages\\ndlib\\models\\DiffusionModel.py:310\u001b[0m, in \u001b[0;36mDiffusionModel.status_delta\u001b[1;34m(self, actual_status)\u001b[0m\n\u001b[0;32m    307\u001b[0m         delta[n] \u001b[38;5;241m=\u001b[39m actual_status[n]\n\u001b[0;32m    309\u001b[0m \u001b[38;5;28;01mfor\u001b[39;00m st \u001b[38;5;129;01min\u001b[39;00m \u001b[38;5;28mlist\u001b[39m(\u001b[38;5;28mself\u001b[39m\u001b[38;5;241m.\u001b[39mavailable_statuses\u001b[38;5;241m.\u001b[39mvalues()):\n\u001b[1;32m--> 310\u001b[0m     actual_status_count[st] \u001b[38;5;241m=\u001b[39m \u001b[38;5;28mlen\u001b[39m([x \u001b[38;5;28;01mfor\u001b[39;00m x \u001b[38;5;129;01min\u001b[39;00m actual_status \u001b[38;5;28;01mif\u001b[39;00m actual_status[x] \u001b[38;5;241m==\u001b[39m st])\n\u001b[0;32m    311\u001b[0m     old_status_count[st] \u001b[38;5;241m=\u001b[39m \u001b[38;5;28mlen\u001b[39m([x \u001b[38;5;28;01mfor\u001b[39;00m x \u001b[38;5;129;01min\u001b[39;00m \u001b[38;5;28mself\u001b[39m\u001b[38;5;241m.\u001b[39mstatus \u001b[38;5;28;01mif\u001b[39;00m \u001b[38;5;28mself\u001b[39m\u001b[38;5;241m.\u001b[39mstatus[x] \u001b[38;5;241m==\u001b[39m st])\n\u001b[0;32m    313\u001b[0m status_delta \u001b[38;5;241m=\u001b[39m {st: actual_status_count[st] \u001b[38;5;241m-\u001b[39m old_status_count[st] \u001b[38;5;28;01mfor\u001b[39;00m st \u001b[38;5;129;01min\u001b[39;00m actual_status_count}\n",
      "\u001b[1;31mKeyboardInterrupt\u001b[0m: "
     ]
    }
   ],
   "source": [
    "\n",
    "infected_scales = {}\n",
    "for B in B_values:\n",
    "    recovered_sum = 0  # To store the sum of recovered nodes across all iterations\n",
    "    infected_sum = 0\n",
    "    # Store trends for plotting\n",
    "    trends = []\n",
    "\n",
    "    for i in range(num_iterations):\n",
    "        # Initialize the SIR model\n",
    "        model = ep.SIRModel(G)\n",
    "        \n",
    "        # Configuration setup\n",
    "        config = mc.Configuration()\n",
    "        config.add_model_parameter('beta', B)  # Set infection rate to current B\n",
    "        config.add_model_parameter('gamma', 1.0)  # Recovery probability = 1\n",
    "        config.add_model_initial_configuration(\"Infected\", {0: 1})  # Start with node 0 infected\n",
    "        \n",
    "        # Set the model configuration\n",
    "        model.set_initial_status(config)\n",
    "        \n",
    "        iteration = None\n",
    "        # Run the model until all nodes are either recovered or susceptible\n",
    "        for step in range(200):  # Maximum 200 steps\n",
    "            iteration = model.iteration()\n",
    "            trends.append(model.build_trends([iteration]))\n",
    "            \n",
    "            # Check if all nodes are either recovered or susceptible (no infected nodes left)\n",
    "            if iteration['node_count'][1] == 0:  # Index 1 corresponds to 'Infected'\n",
    "                break  # Exit the loop if no infected nodes remain\n",
    "        \n",
    "        # Get the final state after the infection spread\n",
    "        final_state = iteration['node_count']\n",
    "        if i%10==0:\n",
    "            print(final_state)\n",
    "        recovered_nodes = final_state[2]  # Index 2 represents 'Recovered' nodes\n",
    "        recovered_sum += recovered_nodes\n",
    "        infected_sum += final_state[1]\n",
    "\n",
    "    \n",
    "    # Calculate the affected scale for the current B\n",
    "    affected_scale = recovered_sum / (num_iterations * num_nodes)\n",
    "    affected_scales[round(B, 3)] = round(affected_scale, 3)\n",
    "    infected_scales[round(B, 3)] = infected_sum \n",
    "    \n",
    "    susceptible_values = []\n",
    "    infected_values = []\n",
    "    recovered_values = []\n",
    "    \n",
    "    for trend_list in trends:  # Iterating over the list of trend data\n",
    "        for trend_dict in trend_list:  # Extracting the trend dictionaries\n",
    "            if 'trends' in trend_dict:  # Ensure the dictionary contains 'trends'\n",
    "                node_count = trend_dict['trends']['node_count']\n",
    "                if len(node_count) >= 3:\n",
    "                    susceptible_values.append(node_count[0][0])  # Susceptible\n",
    "                    infected_values.append(node_count[1][0])  # Infected\n",
    "                    recovered_values.append(node_count[2][0])  # Recovered\n",
    "\n",
    "    plt.figure()\n",
    "    plt.scatter(range(len(susceptible_values)), susceptible_values, label='Susceptible', marker='o')\n",
    "    plt.scatter(range(len(recovered_values)), recovered_values, label='Recovered', marker='^')\n",
    "    plt.scatter(range(len(infected_values)), infected_values, label='Infected', marker='x')\n",
    "    plt.title(f\"Diffusion Trend for B={round(B, 3)} - Iteration {i+1}\")\n",
    "    plt.xlabel(\"Time Step\")\n",
    "    plt.ylabel(\"Number of Nodes\")\n",
    "    plt.legend()\n",
    "    plt.savefig(f\"plot_for_B={round(B, 3)}.png\", dpi=300)\n",
    "    plt.close()\n"
   ]
  },
  {
   "cell_type": "code",
   "execution_count": null,
   "metadata": {},
   "outputs": [
    {
     "name": "stdout",
     "output_type": "stream",
     "text": [
      "B = 0.042: Affected scale = 0.01, infected_avg = 0\n",
      "B = 0.052: Affected scale = 0.027, infected_avg = 0\n",
      "B = 0.062: Affected scale = 0.08, infected_avg = 0\n",
      "B = 0.073: Affected scale = 0.158, infected_avg = 0\n",
      "B = 0.083: Affected scale = 0.224, infected_avg = 0\n",
      "{np.float64(0.042): 0.01, np.float64(0.052): 0.027, np.float64(0.062): 0.08, np.float64(0.073): 0.158, np.float64(0.083): 0.224}\n",
      "{np.float64(0.042): 0, np.float64(0.052): 0, np.float64(0.062): 0, np.float64(0.073): 0, np.float64(0.083): 0}\n"
     ]
    }
   ],
   "source": [
    "\n",
    "# Output the affected scales for each B\n",
    "for B, scale in affected_scales.items():\n",
    "    print(f\"B = {B}: Affected scale = {scale}, infected_avg = {infected_scales[B]}\")\n",
    "print(affected_scales)\n",
    "print(infected_scales)"
   ]
  }
 ],
 "metadata": {
  "kernelspec": {
   "display_name": "venv",
   "language": "python",
   "name": "python3"
  },
  "language_info": {
   "codemirror_mode": {
    "name": "ipython",
    "version": 3
   },
   "file_extension": ".py",
   "mimetype": "text/x-python",
   "name": "python",
   "nbconvert_exporter": "python",
   "pygments_lexer": "ipython3",
   "version": "3.12.1"
  }
 },
 "nbformat": 4,
 "nbformat_minor": 2
}
