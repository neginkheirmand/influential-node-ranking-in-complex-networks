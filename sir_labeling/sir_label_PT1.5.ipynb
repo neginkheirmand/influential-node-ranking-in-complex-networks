{
 "cells": [
  {
   "cell_type": "code",
   "execution_count": 1,
   "metadata": {},
   "outputs": [
    {
     "name": "stdout",
     "output_type": "stream",
     "text": [
      "no display found. Using non-interactive Agg backend\n"
     ]
    }
   ],
   "source": [
    "import networkx as nx\n",
    "import ndlib.models.ModelConfig as mc\n",
    "import ndlib.models.epidemics as ep\n",
    "import numpy as np\n",
    "%matplotlib widget\n",
    "import matplotlib.pyplot as plt\n",
    "from ndlib.viz.mpl.DiffusionTrend import DiffusionTrend\n"
   ]
  },
  {
   "cell_type": "code",
   "execution_count": 2,
   "metadata": {},
   "outputs": [],
   "source": [
    "\n",
    "# Create a graph (e.g., Erdős-Rényi graph)\n",
    "# G = nx.erdos_renyi_graph(n=100, p=0.1)\n",
    "\n",
    "G = nx.read_edgelist('./../datasets/BA_EXP/ba_edgelist_exp3_4000_10.edges', comments=\"%\", nodetype=int)"
   ]
  },
  {
   "cell_type": "code",
   "execution_count": 3,
   "metadata": {},
   "outputs": [
    {
     "data": {
      "text/plain": [
       "4000"
      ]
     },
     "execution_count": 3,
     "metadata": {},
     "output_type": "execute_result"
    }
   ],
   "source": [
    "G.number_of_nodes()"
   ]
  },
  {
   "cell_type": "code",
   "execution_count": 4,
   "metadata": {},
   "outputs": [],
   "source": [
    "\n",
    "\n",
    "# Get the mean degree (k) of the graph\n",
    "degrees = [deg for _, deg in G.degree()]\n",
    "mean_degree = np.mean(degrees)\n",
    "\n",
    "# Calculate B_Threshold\n",
    "B_Threshold = mean_degree / (mean_degree**2 - mean_degree)\n",
    "\n",
    "# Range of B values\n",
    "B_values = np.linspace(1 * B_Threshold, 1.9 * B_Threshold, 5)\n",
    "\n",
    "# Number of iterations (M)\n",
    "num_iterations = 100\n",
    "num_nodes = G.number_of_nodes()\n",
    "\n",
    "affected_scales = {}\n"
   ]
  },
  {
   "cell_type": "code",
   "execution_count": 5,
   "metadata": {},
   "outputs": [
    {
     "data": {
      "text/plain": [
       "array([0.11126565, 0.13630042, 0.16133519, 0.18636996, 0.21140473])"
      ]
     },
     "execution_count": 5,
     "metadata": {},
     "output_type": "execute_result"
    }
   ],
   "source": [
    "B_values"
   ]
  },
  {
   "cell_type": "code",
   "execution_count": 6,
   "metadata": {},
   "outputs": [
    {
     "name": "stdout",
     "output_type": "stream",
     "text": [
      "9.9875\n",
      "250.301\n",
      "[1.  1.5 2. ]\n"
     ]
    },
    {
     "data": {
      "text/plain": [
       "array([0.0415603 , 0.06234044, 0.08312059])"
      ]
     },
     "execution_count": 6,
     "metadata": {},
     "output_type": "execute_result"
    }
   ],
   "source": [
    "print(mean_degree)\n",
    "\n",
    "# Second moment (mean of squared degrees)\n",
    "mean_degree_squared = np.mean([deg**2 for deg in degrees])\n",
    "print(mean_degree_squared)\n",
    "\n",
    "# Epidemic threshold (B_Threshold)\n",
    "B_Threshold = mean_degree / (mean_degree_squared - mean_degree)\n",
    "# Range of B values\n",
    "B_values = np.linspace(1 * B_Threshold, 2 * B_Threshold, 3)\n",
    "print(B_values/B_Threshold)\n",
    "B_values"
   ]
  },
  {
   "cell_type": "code",
   "execution_count": 7,
   "metadata": {},
   "outputs": [
    {
     "name": "stderr",
     "output_type": "stream",
     "text": [
      "C:\\Users\\venus\\AppData\\Local\\Temp\\ipykernel_8588\\1429856903.py:52: UserWarning: FigureCanvasAgg is non-interactive, and thus cannot be shown\n",
      "  plt.show()\n"
     ]
    }
   ],
   "source": [
    "import matplotlib.pyplot as plt\n",
    "\n",
    "# Initialize dictionaries to store trends for each B value\n",
    "state_trends = {}\n",
    "\n",
    "for B in B_values:\n",
    "    trends = {'time': [], 'S': [], 'I': [], 'R': []}  # To store time and S/I/R counts\n",
    "\n",
    "    for i in range(num_iterations):\n",
    "        # Initialize the SIR model\n",
    "        model = ep.SIRModel(G)\n",
    "        \n",
    "        # Configuration setup\n",
    "        config = mc.Configuration()\n",
    "        config.add_model_parameter('beta', B)  # Set infection rate to current B\n",
    "        config.add_model_parameter('gamma', 1.0)  # Recovery probability = 1\n",
    "        config.add_model_initial_configuration(\"Infected\", {0: 1})  # Start with node 0 infected\n",
    "        \n",
    "        # Set the model configuration\n",
    "        model.set_initial_status(config)\n",
    "        \n",
    "        iteration = None\n",
    "        # Run the model until all nodes are either recovered or susceptible\n",
    "        for step in range(200):  # Maximum 200 steps\n",
    "            iteration = model.iteration()\n",
    "            time_step = iteration['iteration']  # Current time step\n",
    "            \n",
    "            # Store trends\n",
    "            trends['time'].append(time_step)\n",
    "            trends['S'].append(iteration['node_count'][0])  # Susceptible count\n",
    "            trends['I'].append(iteration['node_count'][1])  # Infected count\n",
    "            trends['R'].append(iteration['node_count'][2])  # Recovered count\n",
    "            \n",
    "            # Check if all nodes are either recovered or susceptible (no infected nodes left)\n",
    "            if iteration['node_count'][1] == 0:  # Index 1 corresponds to 'Infected'\n",
    "                break  # Exit the loop if no infected nodes remain\n",
    "\n",
    "    # Store the trends for the current B value\n",
    "    state_trends[round(B, 3)] = trends\n",
    "\n",
    "# Plotting the results for each B value\n",
    "for B, trends in state_trends.items():\n",
    "    plt.figure(figsize=(10, 6))\n",
    "    plt.plot(trends['time'], trends['S'], label='Susceptible', color='blue')\n",
    "    plt.plot(trends['time'], trends['R'], label='Recovered', color='green')\n",
    "    plt.plot(trends['time'], trends['I'], label='Infected', color='red')\n",
    "    # plt.title(f'SIR Dynamics for β = {B}', fontsize=16)  # Adjust title font size\n",
    "    plt.xlabel(\"Time\", fontsize=20)  # Adjust x-axis label font size\n",
    "    plt.ylabel(\"Number of Nodes\", fontsize=20)  # Adjust y-axis label font size\n",
    "    plt.legend( fontsize=20)\n",
    "    plt.grid()\n",
    "    plt.show()\n",
    "    plt.savefig(f\"plot_for_B={round(B, 3)}.png\", dpi=300)\n",
    "    plt.close()  \n"
   ]
  },
  {
   "cell_type": "code",
   "execution_count": 10,
   "metadata": {},
   "outputs": [
    {
     "name": "stdout",
     "output_type": "stream",
     "text": [
      "{0: 3984, 1: 0, 2: 16}\n",
      "{0: 3981, 1: 0, 2: 19}\n",
      "{0: 3862, 1: 0, 2: 138}\n",
      "{0: 3960, 1: 0, 2: 40}\n",
      "{0: 3990, 1: 0, 2: 10}\n",
      "{0: 3986, 1: 0, 2: 14}\n",
      "{0: 3895, 1: 0, 2: 105}\n",
      "{0: 3946, 1: 0, 2: 54}\n",
      "{0: 3990, 1: 0, 2: 10}\n",
      "{0: 3991, 1: 0, 2: 9}\n",
      "{0: 3548, 1: 0, 2: 452}\n",
      "{0: 3981, 1: 0, 2: 19}\n",
      "{0: 3542, 1: 0, 2: 458}\n",
      "{0: 3577, 1: 0, 2: 423}\n",
      "{0: 3972, 1: 0, 2: 28}\n",
      "{0: 3947, 1: 0, 2: 53}\n",
      "{0: 3597, 1: 0, 2: 403}\n",
      "{0: 3505, 1: 0, 2: 495}\n",
      "{0: 3434, 1: 0, 2: 566}\n",
      "{0: 3558, 1: 0, 2: 442}\n",
      "{0: 3135, 1: 0, 2: 865}\n",
      "{0: 3067, 1: 0, 2: 933}\n",
      "{0: 3110, 1: 0, 2: 890}\n",
      "{0: 2967, 1: 0, 2: 1033}\n",
      "{0: 3003, 1: 0, 2: 997}\n",
      "{0: 3140, 1: 0, 2: 860}\n",
      "{0: 3112, 1: 0, 2: 888}\n",
      "{0: 3104, 1: 0, 2: 896}\n",
      "{0: 3081, 1: 0, 2: 919}\n",
      "{0: 3095, 1: 0, 2: 905}\n"
     ]
    }
   ],
   "source": [
    "\n",
    "infected_scales = {}\n",
    "for B in B_values:\n",
    "    recovered_sum = 0  # To store the sum of recovered nodes across all iterations\n",
    "    infected_sum = 0\n",
    "    # Store trends for plotting\n",
    "    trends = []\n",
    "\n",
    "    for i in range(num_iterations):\n",
    "        # Initialize the SIR model\n",
    "        model = ep.SIRModel(G)\n",
    "        \n",
    "        # Configuration setup\n",
    "        config = mc.Configuration()\n",
    "        config.add_model_parameter('beta', B)  # Set infection rate to current B\n",
    "        config.add_model_parameter('gamma', 1.0)  # Recovery probability = 1\n",
    "        config.add_model_initial_configuration(\"Infected\", {0: 1})  # Start with node 0 infected\n",
    "        \n",
    "        # Set the model configuration\n",
    "        model.set_initial_status(config)\n",
    "        \n",
    "        iteration = None\n",
    "        # Run the model until all nodes are either recovered or susceptible\n",
    "        for step in range(200):  # Maximum 200 steps\n",
    "            iteration = model.iteration()\n",
    "            trends.append(model.build_trends([iteration]))\n",
    "            \n",
    "            # Check if all nodes are either recovered or susceptible (no infected nodes left)\n",
    "            if iteration['node_count'][1] == 0:  # Index 1 corresponds to 'Infected'\n",
    "                break  # Exit the loop if no infected nodes remain\n",
    "        \n",
    "        # Get the final state after the infection spread\n",
    "        final_state = iteration['node_count']\n",
    "        if i%10==0:\n",
    "            print(final_state)\n",
    "        recovered_nodes = final_state[2]  # Index 2 represents 'Recovered' nodes\n",
    "        recovered_sum += recovered_nodes\n",
    "        infected_sum += final_state[1]\n",
    "\n",
    "    \n",
    "    # Calculate the affected scale for the current B\n",
    "    affected_scale = recovered_sum / (num_iterations * num_nodes)\n",
    "    affected_scales[round(B, 3)] = round(affected_scale, 3)\n",
    "    infected_scales[round(B, 3)] = infected_sum \n",
    "    \n",
    "    susceptible_values = []\n",
    "    infected_values = []\n",
    "    recovered_values = []\n",
    "    \n",
    "    for trend_list in trends:  # Iterating over the list of trend data\n",
    "        for trend_dict in trend_list:  # Extracting the trend dictionaries\n",
    "            if 'trends' in trend_dict:  # Ensure the dictionary contains 'trends'\n",
    "                node_count = trend_dict['trends']['node_count']\n",
    "                if len(node_count) >= 3:\n",
    "                    susceptible_values.append(node_count[0][0])  # Susceptible\n",
    "                    infected_values.append(node_count[1][0])  # Infected\n",
    "                    recovered_values.append(node_count[2][0])  # Recovered\n",
    "\n",
    "    plt.figure()\n",
    "    plt.scatter(range(len(susceptible_values)), susceptible_values, label='Susceptible', marker='o')\n",
    "    plt.scatter(range(len(recovered_values)), recovered_values, label='Recovered', marker='^')\n",
    "    plt.scatter(range(len(infected_values)), infected_values, label='Infected', marker='x')\n",
    "    plt.title(f\"Diffusion Trend for B={round(B, 3)} - Iteration {i+1}\")\n",
    "    plt.xlabel(\"Time Step\")\n",
    "    plt.ylabel(\"Number of Nodes\")\n",
    "    plt.legend()\n",
    "    plt.savefig(f\"plot_for_B={round(B, 3)}.png\", dpi=300)\n",
    "    plt.close()\n"
   ]
  },
  {
   "cell_type": "code",
   "execution_count": null,
   "metadata": {},
   "outputs": [
    {
     "name": "stdout",
     "output_type": "stream",
     "text": [
      "B = 0.042: Affected scale = 0.01, infected_avg = 0\n",
      "B = 0.052: Affected scale = 0.027, infected_avg = 0\n",
      "B = 0.062: Affected scale = 0.08, infected_avg = 0\n",
      "B = 0.073: Affected scale = 0.158, infected_avg = 0\n",
      "B = 0.083: Affected scale = 0.224, infected_avg = 0\n",
      "{np.float64(0.042): 0.01, np.float64(0.052): 0.027, np.float64(0.062): 0.08, np.float64(0.073): 0.158, np.float64(0.083): 0.224}\n",
      "{np.float64(0.042): 0, np.float64(0.052): 0, np.float64(0.062): 0, np.float64(0.073): 0, np.float64(0.083): 0}\n"
     ]
    }
   ],
   "source": [
    "\n",
    "# Output the affected scales for each B\n",
    "for B, scale in affected_scales.items():\n",
    "    print(f\"B = {B}: Affected scale = {scale}, infected_avg = {infected_scales[B]}\")\n",
    "print(affected_scales)\n",
    "print(infected_scales)"
   ]
  }
 ],
 "metadata": {
  "kernelspec": {
   "display_name": "venv",
   "language": "python",
   "name": "python3"
  },
  "language_info": {
   "codemirror_mode": {
    "name": "ipython",
    "version": 3
   },
   "file_extension": ".py",
   "mimetype": "text/x-python",
   "name": "python",
   "nbconvert_exporter": "python",
   "pygments_lexer": "ipython3",
   "version": "3.12.1"
  }
 },
 "nbformat": 4,
 "nbformat_minor": 2
}
