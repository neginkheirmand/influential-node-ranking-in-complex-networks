{
 "cells": [
  {
   "cell_type": "code",
   "execution_count": 1,
   "metadata": {},
   "outputs": [
    {
     "name": "stdout",
     "output_type": "stream",
     "text": [
      "no display found. Using non-interactive Agg backend\n"
     ]
    }
   ],
   "source": [
    "import networkx as nx\n",
    "import ndlib.models.ModelConfig as mc\n",
    "import ndlib.models.epidemics as ep\n",
    "import EoN\n",
    "import numpy as np\n",
    "%matplotlib widget\n",
    "import matplotlib.pyplot as plt\n",
    "from ndlib.viz.mpl.DiffusionTrend import DiffusionTrend\n"
   ]
  },
  {
   "cell_type": "code",
   "execution_count": 2,
   "metadata": {},
   "outputs": [],
   "source": [
    "\n",
    "# Create a graph (e.g., Erdős-Rényi graph)\n",
    "# G = nx.erdos_renyi_graph(n=100, p=0.1)\n",
    "\n",
    "G = nx.read_edgelist('./datasets/BA_EXP/ba_edgelist_exp3_4000_10.edges', comments=\"%\", nodetype=int)\n"
   ]
  },
  {
   "cell_type": "code",
   "execution_count": 3,
   "metadata": {},
   "outputs": [
    {
     "data": {
      "text/plain": [
       "4000"
      ]
     },
     "execution_count": 3,
     "metadata": {},
     "output_type": "execute_result"
    }
   ],
   "source": [
    "G.number_of_nodes()"
   ]
  },
  {
   "cell_type": "code",
   "execution_count": 20,
   "metadata": {},
   "outputs": [],
   "source": [
    "\n",
    "\n",
    "# Get the mean degree (k) of the graph\n",
    "degrees = [deg for _, deg in G.degree()]\n",
    "mean_degree = np.mean(degrees)\n",
    "\n",
    "# Calculate B_Threshold\n",
    "B_Threshold = mean_degree / (mean_degree**2 - mean_degree)\n",
    "\n",
    "# Range of B values\n",
    "B_values = np.linspace(1 * B_Threshold, 1.9 * B_Threshold, 5)\n",
    "\n",
    "# Number of iterations (M)\n",
    "num_iterations = 100\n",
    "num_nodes = G.number_of_nodes()\n",
    "\n",
    "affected_scales = {}\n"
   ]
  },
  {
   "cell_type": "code",
   "execution_count": 21,
   "metadata": {},
   "outputs": [
    {
     "data": {
      "text/plain": [
       "array([0.11126565, 0.13630042, 0.16133519, 0.18636996, 0.21140473])"
      ]
     },
     "execution_count": 21,
     "metadata": {},
     "output_type": "execute_result"
    }
   ],
   "source": [
    "B_values"
   ]
  },
  {
   "cell_type": "code",
   "execution_count": null,
   "metadata": {},
   "outputs": [
    {
     "name": "stdout",
     "output_type": "stream",
     "text": [
      "Iteration 0: Infected: 0, Recovered: 1237  num=2474\n",
      "Iteration 10: Infected: 0, Recovered: 1327  num=2654\n",
      "Iteration 20: Infected: 0, Recovered: 1  num=2\n",
      "Iteration 30: Infected: 0, Recovered: 1268  num=2536\n",
      "Iteration 40: Infected: 0, Recovered: 1452  num=2904\n",
      "Iteration 50: Infected: 0, Recovered: 1429  num=2858\n",
      "Iteration 60: Infected: 0, Recovered: 1217  num=2434\n",
      "Iteration 70: Infected: 0, Recovered: 1  num=2\n",
      "Iteration 80: Infected: 0, Recovered: 1163  num=2326\n",
      "Iteration 90: Infected: 0, Recovered: 1359  num=2718\n",
      "Iteration 0: Infected: 0, Recovered: 1775  num=3550\n",
      "Iteration 10: Infected: 0, Recovered: 1899  num=3798\n",
      "Iteration 20: Infected: 0, Recovered: 1638  num=3276\n",
      "Iteration 30: Infected: 0, Recovered: 1925  num=3850\n",
      "Iteration 40: Infected: 0, Recovered: 1825  num=3650\n",
      "Iteration 50: Infected: 0, Recovered: 1640  num=3280\n",
      "Iteration 60: Infected: 0, Recovered: 6  num=12\n",
      "Iteration 70: Infected: 0, Recovered: 1563  num=3126\n",
      "Iteration 80: Infected: 0, Recovered: 3  num=6\n",
      "Iteration 90: Infected: 0, Recovered: 4  num=8\n",
      "Iteration 0: Infected: 0, Recovered: 1915  num=3830\n",
      "Iteration 10: Infected: 0, Recovered: 2178  num=4356\n",
      "Iteration 20: Infected: 0, Recovered: 2136  num=4272\n",
      "Iteration 30: Infected: 0, Recovered: 2016  num=4032\n",
      "Iteration 40: Infected: 0, Recovered: 2245  num=4490\n",
      "Iteration 50: Infected: 0, Recovered: 2048  num=4096\n",
      "Iteration 60: Infected: 0, Recovered: 2166  num=4332\n",
      "Iteration 70: Infected: 0, Recovered: 1  num=2\n",
      "Iteration 80: Infected: 0, Recovered: 1959  num=3918\n",
      "Iteration 90: Infected: 0, Recovered: 2042  num=4084\n",
      "Iteration 0: Infected: 0, Recovered: 2321  num=4642\n",
      "Iteration 10: Infected: 0, Recovered: 2474  num=4948\n",
      "Iteration 20: Infected: 0, Recovered: 2409  num=4818\n",
      "Iteration 30: Infected: 0, Recovered: 2361  num=4722\n",
      "Iteration 40: Infected: 0, Recovered: 2389  num=4778\n",
      "Iteration 50: Infected: 0, Recovered: 2419  num=4838\n",
      "Iteration 60: Infected: 0, Recovered: 2192  num=4384\n",
      "Iteration 70: Infected: 0, Recovered: 2239  num=4478\n",
      "Iteration 80: Infected: 0, Recovered: 2315  num=4630\n",
      "Iteration 90: Infected: 0, Recovered: 2465  num=4930\n",
      "Iteration 0: Infected: 0, Recovered: 2778  num=5556\n",
      "Iteration 10: Infected: 0, Recovered: 2673  num=5346\n",
      "Iteration 20: Infected: 0, Recovered: 2723  num=5446\n",
      "Iteration 30: Infected: 0, Recovered: 2642  num=5284\n",
      "Iteration 40: Infected: 0, Recovered: 2684  num=5368\n",
      "Iteration 50: Infected: 0, Recovered: 2458  num=4916\n",
      "Iteration 60: Infected: 0, Recovered: 2636  num=5272\n",
      "Iteration 70: Infected: 0, Recovered: 2408  num=4816\n",
      "Iteration 80: Infected: 0, Recovered: 2569  num=5138\n",
      "Iteration 90: Infected: 0, Recovered: 2575  num=5150\n"
     ]
    }
   ],
   "source": [
    "\n",
    "for B in B_values:\n",
    "    recovered_sum = 0  # To store the sum of recovered nodes across all iterations\n",
    "    \n",
    "    # Store trends for plotting\n",
    "    trends = []\n",
    "\n",
    "    for i in range(num_iterations):\n",
    "\n",
    "        initial_infected = [0]  # Set node 0 as initially infected\n",
    "        \n",
    "        # Run the SIR model using EoN with the specified initial infected node\n",
    "        t, susceptible, infected, recovered = EoN.fast_SIR(G, B, 1.0, initial_infecteds =initial_infected, tmax =200)\n",
    "        \n",
    "\n",
    "        # Store the trend for visualization\n",
    "        trends.append((susceptible, infected, recovered))\n",
    "\n",
    "        # Get the final state of the last iteration\n",
    "        final_infected = infected[-1]\n",
    "        final_recovered = recovered[-1]\n",
    "\n",
    "        # if i % 10 == 0:\n",
    "        #     print(f\"Iteration {i}: Infected: {final_infected}, Recovered: {final_recovered}  num={len(t)}\")\n",
    "\n",
    "        recovered_sum += final_recovered\n",
    "    \n",
    "    # Calculate the affected scale for the current B\n",
    "    affected_scale = recovered_sum / (num_iterations * num_nodes)\n",
    "    affected_scales[round(B, 3)] = round(affected_scale, 3)\n",
    "# Visualization of the diffusion trend\n",
    "    # plt.figure()\n",
    "    # plt.plot(susceptible, label='Susceptible')\n",
    "    # plt.plot(infected, label='Infected')\n",
    "    # plt.plot(recovered, label='Recovered')\n",
    "    # plt.title(f\"Diffusion Trend for B={round(B, 3)}\")\n",
    "    # plt.xlabel(\"Time\")\n",
    "    # plt.ylabel(\"Number of Nodes\")\n",
    "    # plt.legend()\n",
    "    # plt.show()\n",
    "    # plt.close()\n"
   ]
  },
  {
   "cell_type": "code",
   "execution_count": 23,
   "metadata": {},
   "outputs": [
    {
     "name": "stdout",
     "output_type": "stream",
     "text": [
      "B = 0.111: Affected scale = 0.295\n",
      "B = 0.136: Affected scale = 0.382\n",
      "B = 0.161: Affected scale = 0.511\n",
      "B = 0.186: Affected scale = 0.576\n",
      "B = 0.211: Affected scale = 0.612\n"
     ]
    }
   ],
   "source": [
    "\n",
    "# Output the affected scales for each B\n",
    "for B, scale in affected_scales.items():\n",
    "    print(f\"B = {B}: Affected scale = {scale}\")"
   ]
  }
 ],
 "metadata": {
  "kernelspec": {
   "display_name": "venv",
   "language": "python",
   "name": "python3"
  },
  "language_info": {
   "codemirror_mode": {
    "name": "ipython",
    "version": 3
   },
   "file_extension": ".py",
   "mimetype": "text/x-python",
   "name": "python",
   "nbconvert_exporter": "python",
   "pygments_lexer": "ipython3",
   "version": "3.12.1"
  }
 },
 "nbformat": 4,
 "nbformat_minor": 2
}
