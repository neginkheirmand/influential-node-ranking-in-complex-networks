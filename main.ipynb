{
 "cells": [
  {
   "cell_type": "markdown",
   "metadata": {},
   "source": [
    "## Creating BA networks"
   ]
  },
  {
   "cell_type": "code",
   "execution_count": 13,
   "metadata": {},
   "outputs": [],
   "source": [
    "import networkx as nx\n",
    "import matplotlib.pyplot as plt\n",
    "\n",
    "# BA Parameters: (#nodes, avg_edge_per_node)\n",
    "BA_info = [(1000,4),(1000,10), (1000,20),(2000,4),(2000,10),(2000,20),(3000,4),(3000,10),(3000,20)]\n",
    "\n",
    "# Generate BA graphs\n",
    "for x in BA_info:\n",
    "    num_nodes, avg_degree = x[0], x[1]\n",
    "    ba_graph = nx.barabasi_albert_graph(n=num_nodes, m=avg_degree)\n",
    "    # Save as edge list\n",
    "    nx.write_edgelist(ba_graph, f\"./datasets/BA/ba_edgelist_{num_nodes}_{avg_degree}.txt\", data=False)\n",
    "# nx.draw(ba_graph, with_labels=False, node_color='lightblue', edge_color='gray', node_size=5, font_size=8)\n",
    "# plt.show()\n"
   ]
  },
  {
   "cell_type": "code",
   "execution_count": 7,
   "metadata": {},
   "outputs": [],
   "source": [
    "\n"
   ]
  }
 ],
 "metadata": {
  "kernelspec": {
   "display_name": "venv",
   "language": "python",
   "name": "python3"
  },
  "language_info": {
   "codemirror_mode": {
    "name": "ipython",
    "version": 3
   },
   "file_extension": ".py",
   "mimetype": "text/x-python",
   "name": "python",
   "nbconvert_exporter": "python",
   "pygments_lexer": "ipython3",
   "version": "3.12.1"
  }
 },
 "nbformat": 4,
 "nbformat_minor": 2
}
