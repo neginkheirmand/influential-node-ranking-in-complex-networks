{
 "cells": [
  {
   "cell_type": "markdown",
   "metadata": {},
   "source": [
    "## Creating BA networks"
   ]
  },
  {
   "cell_type": "code",
   "execution_count": 60,
   "metadata": {},
   "outputs": [],
   "source": [
    "import networkx as nx\n",
    "import matplotlib.pyplot as plt\n",
    "\n",
    "# BA Parameters: (#nodes, avg_edge_per_node)\n",
    "BA_info = [(1000,4),(1000,10), (1000,20),(2000,4),(2000,10),(2000,20),(3000,4),(3000,10),(3000,20)]\n",
    "\n",
    "# Generate BA graphs\n",
    "for x in BA_info:\n",
    "    num_nodes, avg_degree = x[0], x[1]\n",
    "    ba_graph = nx.barabasi_albert_graph(n=num_nodes, m=avg_degree)\n",
    "    # Save as edge list\n",
    "    nx.write_edgelist(ba_graph, f\"./datasets/BA/ba_edgelist_{num_nodes}_{avg_degree}.edges\", data=False)\n",
    "# nx.draw(ba_graph, with_labels=False, node_color='lightblue', edge_color='gray', node_size=5, font_size=8)\n",
    "# plt.show()\n"
   ]
  },
  {
   "cell_type": "markdown",
   "metadata": {},
   "source": [
    "## Load all network graphs and show info"
   ]
  },
  {
   "cell_type": "code",
   "execution_count": 72,
   "metadata": {},
   "outputs": [],
   "source": [
    "import os\n",
    "import networkx as nx\n",
    "import pandas as pd\n",
    "\n",
    "directory = \"./datasets/\"\n",
    "graph_info = []\n",
    "\n",
    "for dirpath, _, files in os.walk(directory):\n",
    "    for filename in files:\n",
    "        try:\n",
    "            if filename.endswith(\".edges\"):\n",
    "                file_path = os.path.join(dirpath, filename)  # Use dirpath to get the full file path\n",
    "                graph = nx.read_edgelist(file_path, comments=\"%\", nodetype=int)\n",
    "                # is_directed = isinstance(graph, nx.DiGraph)\n",
    "                num_nodes = graph.number_of_nodes()\n",
    "                num_edges = graph.number_of_edges()\n",
    "                degrees = [deg for node, deg in graph.degree()]\n",
    "                avg_degree = 2 * num_edges / num_nodes if num_nodes > 0 else 0\n",
    "                max_degree = max(degrees) if degrees else 0\n",
    "                min_degree = min(degrees) if degrees else 0\n",
    "                avg_clustering_coefficient = nx.average_clustering(graph) if num_nodes > 0 else 0\n",
    "                num_unconnected_subgraphs = nx.number_connected_components(graph)\n",
    "                largest_component = max(nx.connected_components(graph), key=len, default=set())\n",
    "                subgraph_largest_component = graph.subgraph(largest_component)\n",
    "                portion_nodes_largest_component = ((len(largest_component) / num_nodes)*100) if num_nodes > 0 else 0\n",
    "                portion_edges_largest_component = ((subgraph_largest_component.number_of_edges())*100) / num_edges if num_edges > 0 else 0\n",
    "                density = nx.density(graph) if num_nodes > 0 else 0\n",
    "\n",
    "                graph_info.append({\n",
    "                    \"graph G\": os.path.splitext(filename)[0],\n",
    "                    # \"Is Directed\": is_directed,\n",
    "                    \"#Nodes n\": num_nodes,\n",
    "                    \"#Edges e\": num_edges,\n",
    "                    \"Avg Degree <e>\": avg_degree,\n",
    "                    \"Max Degree e_max\": max_degree,\n",
    "                    \"Min Degree e_min\": min_degree,\n",
    "                    \"Avg Clustering Coefficient c\": avg_clustering_coefficient,\n",
    "                    \"#subgraphs s\": num_unconnected_subgraphs,\n",
    "                    \"Portion Nodes in Largest Component Gn%\": portion_nodes_largest_component,\n",
    "                    \"Portion Edges in Largest Component Ge%\": portion_edges_largest_component,\n",
    "                    \"Density d\": density\n",
    "                })\n",
    "        except Exception as e: \n",
    "            print(e, f'{filename}')\n",
    "\n",
    "df = pd.DataFrame(graph_info)\n",
    "# print(df)\n",
    "df.to_excel(\"graph_info.xlsx\", index=False)\n"
   ]
  }
 ],
 "metadata": {
  "kernelspec": {
   "display_name": "venv",
   "language": "python",
   "name": "python3"
  },
  "language_info": {
   "codemirror_mode": {
    "name": "ipython",
    "version": 3
   },
   "file_extension": ".py",
   "mimetype": "text/x-python",
   "name": "python",
   "nbconvert_exporter": "python",
   "pygments_lexer": "ipython3",
   "version": "3.12.1"
  }
 },
 "nbformat": 4,
 "nbformat_minor": 2
}
