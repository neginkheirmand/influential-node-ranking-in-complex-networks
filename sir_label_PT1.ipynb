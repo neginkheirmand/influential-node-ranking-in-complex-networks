{
 "cells": [
  {
   "cell_type": "code",
   "execution_count": 1,
   "metadata": {},
   "outputs": [
    {
     "name": "stdout",
     "output_type": "stream",
     "text": [
      "no display found. Using non-interactive Agg backend\n"
     ]
    }
   ],
   "source": [
    "import networkx as nx\n",
    "import ndlib.models.ModelConfig as mc\n",
    "import ndlib.models.epidemics as ep\n",
    "import numpy as np\n",
    "%matplotlib widget\n",
    "import matplotlib.pyplot as plt\n",
    "from ndlib.viz.mpl.DiffusionTrend import DiffusionTrend\n"
   ]
  },
  {
   "cell_type": "code",
   "execution_count": 2,
   "metadata": {},
   "outputs": [],
   "source": [
    "\n",
    "# Create a graph (e.g., Erdős-Rényi graph)\n",
    "# G = nx.erdos_renyi_graph(n=100, p=0.1)\n",
    "\n",
    "G = nx.read_edgelist('./datasets/BA_EXP/ba_edgelist_exp3_4000_10.edges', comments=\"%\", nodetype=int)\n"
   ]
  },
  {
   "cell_type": "code",
   "execution_count": 3,
   "metadata": {},
   "outputs": [
    {
     "data": {
      "text/plain": [
       "4000"
      ]
     },
     "execution_count": 3,
     "metadata": {},
     "output_type": "execute_result"
    }
   ],
   "source": [
    "G.number_of_nodes()"
   ]
  },
  {
   "cell_type": "code",
   "execution_count": 11,
   "metadata": {},
   "outputs": [],
   "source": [
    "\n",
    "\n",
    "# Get the mean degree (k) of the graph\n",
    "degrees = [deg for _, deg in G.degree()]\n",
    "mean_degree = np.mean(degrees)\n",
    "\n",
    "# Calculate B_Threshold\n",
    "B_Threshold = mean_degree / (mean_degree**2 - mean_degree)\n",
    "\n",
    "# Range of B values\n",
    "B_values = np.linspace(1 * B_Threshold, 1.9 * B_Threshold, 5)\n",
    "\n",
    "# Number of iterations (M)\n",
    "num_iterations = 100\n",
    "num_nodes = G.number_of_nodes()\n",
    "\n",
    "affected_scales = {}\n"
   ]
  },
  {
   "cell_type": "code",
   "execution_count": 12,
   "metadata": {},
   "outputs": [
    {
     "data": {
      "text/plain": [
       "array([0.11126565, 0.13630042, 0.16133519, 0.18636996, 0.21140473])"
      ]
     },
     "execution_count": 12,
     "metadata": {},
     "output_type": "execute_result"
    }
   ],
   "source": [
    "B_values"
   ]
  },
  {
   "cell_type": "code",
   "execution_count": 13,
   "metadata": {},
   "outputs": [
    {
     "name": "stdout",
     "output_type": "stream",
     "text": [
      "{0: 2452, 1: 0, 2: 1548}\n",
      "{0: 2456, 1: 0, 2: 1544}\n",
      "{0: 2378, 1: 0, 2: 1622}\n",
      "{0: 2368, 1: 0, 2: 1632}\n",
      "{0: 2490, 1: 0, 2: 1510}\n",
      "{0: 2480, 1: 0, 2: 1520}\n",
      "{0: 2516, 1: 0, 2: 1484}\n",
      "{0: 2445, 1: 0, 2: 1555}\n",
      "{0: 2460, 1: 0, 2: 1540}\n",
      "{0: 2403, 1: 0, 2: 1597}\n",
      "{0: 1897, 1: 0, 2: 2103}\n",
      "{0: 1967, 1: 0, 2: 2033}\n",
      "{0: 1954, 1: 0, 2: 2046}\n",
      "{0: 1930, 1: 0, 2: 2070}\n",
      "{0: 1909, 1: 0, 2: 2091}\n",
      "{0: 1982, 1: 0, 2: 2018}\n",
      "{0: 1858, 1: 0, 2: 2142}\n",
      "{0: 1998, 1: 0, 2: 2002}\n",
      "{0: 1999, 1: 0, 2: 2001}\n",
      "{0: 1975, 1: 0, 2: 2025}\n",
      "{0: 1525, 1: 0, 2: 2475}\n",
      "{0: 1589, 1: 0, 2: 2411}\n",
      "{0: 1492, 1: 0, 2: 2508}\n",
      "{0: 1527, 1: 0, 2: 2473}\n",
      "{0: 1497, 1: 0, 2: 2503}\n",
      "{0: 1457, 1: 0, 2: 2543}\n",
      "{0: 1533, 1: 0, 2: 2467}\n",
      "{0: 1517, 1: 0, 2: 2483}\n",
      "{0: 1596, 1: 0, 2: 2404}\n",
      "{0: 1509, 1: 0, 2: 2491}\n",
      "{0: 1178, 1: 0, 2: 2822}\n",
      "{0: 1198, 1: 0, 2: 2802}\n",
      "{0: 1230, 1: 0, 2: 2770}\n",
      "{0: 1234, 1: 0, 2: 2766}\n",
      "{0: 1182, 1: 0, 2: 2818}\n",
      "{0: 1182, 1: 0, 2: 2818}\n",
      "{0: 1156, 1: 0, 2: 2844}\n",
      "{0: 1246, 1: 0, 2: 2754}\n",
      "{0: 1224, 1: 0, 2: 2776}\n",
      "{0: 1267, 1: 0, 2: 2733}\n",
      "{0: 927, 1: 0, 2: 3073}\n",
      "{0: 1022, 1: 0, 2: 2978}\n",
      "{0: 971, 1: 0, 2: 3029}\n",
      "{0: 981, 1: 0, 2: 3019}\n",
      "{0: 929, 1: 0, 2: 3071}\n",
      "{0: 938, 1: 0, 2: 3062}\n",
      "{0: 941, 1: 0, 2: 3059}\n",
      "{0: 949, 1: 0, 2: 3051}\n",
      "{0: 974, 1: 0, 2: 3026}\n",
      "{0: 969, 1: 0, 2: 3031}\n"
     ]
    }
   ],
   "source": [
    "for B in B_values:\n",
    "    recovered_sum = 0  # To store the sum of recovered nodes across all iterations\n",
    "    \n",
    "    # Store trends for plotting\n",
    "    trends = []\n",
    "\n",
    "    for i in range(num_iterations):\n",
    "        # Initialize the SIR model\n",
    "        model = ep.SIRModel(G)\n",
    "        \n",
    "        # Configuration setup\n",
    "        config = mc.Configuration()\n",
    "        config.add_model_parameter('beta', B)  # Set infection rate to current B\n",
    "        config.add_model_parameter('gamma', 1.0)  # Recovery probability = 1\n",
    "        config.add_model_initial_configuration(\"Infected\", {0: 1})  # Start with node 0 infected\n",
    "        \n",
    "        # Set the model configuration\n",
    "        model.set_initial_status(config)\n",
    "        \n",
    "        # Run the model until all nodes are either recovered or susceptible\n",
    "        iteration = model.iteration_bunch(200)\n",
    "        \n",
    "        # Store trends for plotting (useful for later visualization)\n",
    "        it_trend = model.build_trends(iteration)\n",
    "        trends.append(it_trend)\n",
    "\n",
    "        # Get the final state after the infection spread\n",
    "        final_state = iteration[-1]['node_count']\n",
    "        if i%10==0:\n",
    "            print(final_state)\n",
    "        recovered_nodes = final_state[2]  # Index 2 represents 'Recovered' nodes\n",
    "        \n",
    "        recovered_sum += recovered_nodes\n",
    "    \n",
    "    # Calculate the affected scale for the current B\n",
    "    affected_scale = recovered_sum / (num_iterations * num_nodes)\n",
    "    affected_scales[round(B, 3)] = round(affected_scale, 3)\n",
    "    \n",
    "    # Plot the trend for each B\n",
    "    # viz = DiffusionTrend(model, trends[-1])  # Use the last iteration's trends for visualization\n",
    "    \n",
    "    # plt.figure()  # Create a new figure for each plot\n",
    "    # viz.plot()  # Call the plot method of the viz object\n",
    "    # plt.title(f\"Diffusion Trend for B={round(B, 3)}\")\n",
    "    # plt.savefig(f\"plot_for_B={round(B, 3)}.png\", dpi=300)\n",
    "    # plt.close()  # Close the plot to free memory\n"
   ]
  },
  {
   "cell_type": "code",
   "execution_count": 14,
   "metadata": {},
   "outputs": [
    {
     "name": "stdout",
     "output_type": "stream",
     "text": [
      "B = 0.111: Affected scale = 0.391\n",
      "B = 0.136: Affected scale = 0.516\n",
      "B = 0.161: Affected scale = 0.616\n",
      "B = 0.186: Affected scale = 0.696\n",
      "B = 0.211: Affected scale = 0.758\n"
     ]
    }
   ],
   "source": [
    "\n",
    "# Output the affected scales for each B\n",
    "for B, scale in affected_scales.items():\n",
    "    print(f\"B = {B}: Affected scale = {scale}\")"
   ]
  }
 ],
 "metadata": {
  "kernelspec": {
   "display_name": "venv",
   "language": "python",
   "name": "python3"
  },
  "language_info": {
   "codemirror_mode": {
    "name": "ipython",
    "version": 3
   },
   "file_extension": ".py",
   "mimetype": "text/x-python",
   "name": "python",
   "nbconvert_exporter": "python",
   "pygments_lexer": "ipython3",
   "version": "3.12.1"
  }
 },
 "nbformat": 4,
 "nbformat_minor": 2
}
