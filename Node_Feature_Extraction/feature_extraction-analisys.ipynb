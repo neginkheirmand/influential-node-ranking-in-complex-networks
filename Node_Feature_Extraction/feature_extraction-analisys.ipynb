{
 "cells": [
  {
   "cell_type": "code",
   "execution_count": 1,
   "metadata": {},
   "outputs": [],
   "source": [
    "import os\n",
    "from pathlib import Path\n",
    "import networkx as nx\n",
    "import csv\n",
    "import pandas as pd"
   ]
  },
  {
   "cell_type": "code",
   "execution_count": 6,
   "metadata": {},
   "outputs": [
    {
     "data": {
      "text/plain": [
       "['./../datasets/Features/ba_edgelist_1000_10.csv',\n",
       " './../datasets/Features/ba_edgelist_1000_20.csv',\n",
       " './../datasets/Features/ba_edgelist_1000_4.csv',\n",
       " './../datasets/Features/ba_edgelist_2000_10.csv',\n",
       " './../datasets/Features/ba_edgelist_2000_20.csv',\n",
       " './../datasets/Features/ba_edgelist_2000_4.csv',\n",
       " './../datasets/Features/ba_edgelist_3000_10.csv',\n",
       " './../datasets/Features/ba_edgelist_3000_20.csv',\n",
       " './../datasets/Features/ba_edgelist_3000_4.csv',\n",
       " './../datasets/Features/ba_edgelist_exp1_3000_4.csv',\n",
       " './../datasets/Features/ba_edgelist_exp1_4000_4.csv',\n",
       " './../datasets/Features/ba_edgelist_exp1_5000_4.csv',\n",
       " './../datasets/Features/ba_edgelist_exp1_6000_4.csv',\n",
       " './../datasets/Features/ba_edgelist_exp1_7000_4.csv',\n",
       " './../datasets/Features/ba_edgelist_exp1_8000_4.csv',\n",
       " './../datasets/Features/ba_edgelist_exp2_2000_10.csv',\n",
       " './../datasets/Features/ba_edgelist_exp2_2000_20.csv',\n",
       " './../datasets/Features/ba_edgelist_exp2_2000_4.csv',\n",
       " './../datasets/Features/ba_edgelist_exp3_4000_10.csv',\n",
       " './../datasets/Features/ba_edgelist_exp3_4000_2.csv',\n",
       " './../datasets/Features/ba_edgelist_exp3_4000_6.csv',\n",
       " './../datasets/Features/arenas-pgp.csv',\n",
       " './../datasets/Features/CA-GrQc.csv',\n",
       " './../datasets/Features/CA-HepTh.csv',\n",
       " './../datasets/Features/ChicagoRegional.csv',\n",
       " './../datasets/Features/email.csv',\n",
       " './../datasets/Features/faa.csv',\n",
       " './../datasets/Features/facebook_combined.csv',\n",
       " './../datasets/Features/figeys.csv',\n",
       " './../datasets/Features/ia-crime-moreno.csv',\n",
       " './../datasets/Features/jazz.csv',\n",
       " './../datasets/Features/LastFM.csv',\n",
       " './../datasets/Features/maybe-PROTEINS-full.csv',\n",
       " './../datasets/Features/NS.csv',\n",
       " './../datasets/Features/p2p-Gnutella04.csv',\n",
       " './../datasets/Features/Peh_edge.csv',\n",
       " './../datasets/Features/politician_edges.csv',\n",
       " './../datasets/Features/powergrid.csv',\n",
       " './../datasets/Features/sex.csv',\n",
       " './../datasets/Features/Stelzl.csv',\n",
       " './../datasets/Features/tvshow_edges.csv',\n",
       " './../datasets/Features/vidal.csv',\n",
       " './../datasets/Features/web-EPA.csv']"
      ]
     },
     "execution_count": 6,
     "metadata": {},
     "output_type": "execute_result"
    }
   ],
   "source": [
    "\n",
    "def get_graph_paths(dataset_dir= './../datasets/'):\n",
    "    graph_list = []\n",
    "    for dirpath, _, files in os.walk(dataset_dir):\n",
    "        for filename in files:\n",
    "            try:\n",
    "                if filename.endswith(\".edges\"):\n",
    "                    file_path = os.path.join(dirpath, filename) \n",
    "                    graph_list.append((file_path, os.path.splitext(filename)[0]))\n",
    "            except Exception as e: \n",
    "                print(e, f'{filename}')\n",
    "    return graph_list\n",
    "\n",
    "def get_feature_paths(graph_list, feature_path =  './../datasets/Features/'):\n",
    "    graph_feature_paths = []\n",
    "    for g_path, g_name in graph_list:\n",
    "        graph_feature_paths.append(os.path.join(feature_path, g_name + '.csv') )\n",
    "    return graph_feature_paths\n",
    "get_feature_paths(get_graph_paths())"
   ]
  },
  {
   "cell_type": "code",
   "execution_count": null,
   "metadata": {},
   "outputs": [
    {
     "name": "stdout",
     "output_type": "stream",
     "text": [
      "Descriptive Statistics:\n",
      "               Node          WiD1          WiD2           WiD3\n",
      "count  10680.000000  10680.000000  10680.000000   10680.000000\n",
      "mean    5340.500000      4.553558     90.529775    2476.270787\n",
      "std     3083.194772      8.077588    276.321531   11228.885693\n",
      "min        1.000000      1.000000      3.000000       8.000000\n",
      "25%     2670.750000      1.000000      8.000000      51.000000\n",
      "50%     5340.500000      2.000000     19.000000     161.000000\n",
      "75%     8010.250000      4.000000     56.000000     734.000000\n",
      "max    10680.000000    205.000000   6482.000000  282303.000000\n",
      "\n",
      "DataFrame Info:\n",
      "<class 'pandas.core.frame.DataFrame'>\n",
      "RangeIndex: 10680 entries, 0 to 10679\n",
      "Data columns (total 4 columns):\n",
      " #   Column  Non-Null Count  Dtype\n",
      "---  ------  --------------  -----\n",
      " 0   Node    10680 non-null  int64\n",
      " 1   WiD1    10680 non-null  int64\n",
      " 2   WiD2    10680 non-null  int64\n",
      " 3   WiD3    10680 non-null  int64\n",
      "dtypes: int64(4)\n",
      "memory usage: 333.9 KB\n",
      "None\n",
      "\n",
      "First few rows:\n",
      "   Node  WiD1  WiD2    WiD3\n",
      "0     1     1     3      11\n",
      "1     2     2     8      36\n",
      "2     3     4    82    2910\n",
      "3     4    49  2310  106721\n",
      "4     5     5    90    2958\n"
     ]
    },
    {
     "data": {
      "text/plain": [
       "[2]"
      ]
     },
     "execution_count": 9,
     "metadata": {},
     "output_type": "execute_result"
    }
   ],
   "source": [
    "\n",
    "df = pd.read_csv('./../datasets/Features/arenas-pgp.csv')\n",
    "G = nx.read_edgelist('C:\\\\Users\\\\venus\\\\Desktop\\\\spreading influence identification\\\\datasets\\\\other\\\\arenas-pgp.edges', comments=\"%\", nodetype=int)\n",
    "# Get summary statistics for numeric columns\n",
    "print(\"Descriptive Statistics:\")\n",
    "print(df.describe())\n",
    "\n",
    "# Get information about the DataFrame\n",
    "print(\"\\nDataFrame Info:\")\n",
    "print(df.info())\n",
    "\n",
    "# Show the first few rows of the DataFrame (optional)\n",
    "print(\"\\nFirst few rows:\")\n",
    "print(df.head())\n"
   ]
  },
  {
   "cell_type": "code",
   "execution_count": null,
   "metadata": {},
   "outputs": [],
   "source": []
  }
 ],
 "metadata": {
  "kernelspec": {
   "display_name": "venv",
   "language": "python",
   "name": "python3"
  },
  "language_info": {
   "codemirror_mode": {
    "name": "ipython",
    "version": 3
   },
   "file_extension": ".py",
   "mimetype": "text/x-python",
   "name": "python",
   "nbconvert_exporter": "python",
   "pygments_lexer": "ipython3",
   "version": "3.12.1"
  }
 },
 "nbformat": 4,
 "nbformat_minor": 2
}
