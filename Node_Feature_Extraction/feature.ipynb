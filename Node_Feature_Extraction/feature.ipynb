{
 "cells": [
  {
   "cell_type": "markdown",
   "metadata": {},
   "source": [
    "# Node Feature Extraction"
   ]
  },
  {
   "cell_type": "code",
   "execution_count": 129,
   "metadata": {},
   "outputs": [],
   "source": [
    "import networkx as nx\n",
    "import matplotlib.pyplot as plt\n",
    "import csv\n",
    "import pandas as pd\n",
    "import numpy as np\n"
   ]
  },
  {
   "cell_type": "code",
   "execution_count": 130,
   "metadata": {},
   "outputs": [
    {
     "data": {
      "image/png": "[encoded data removed]",
      "text/plain": [
       "<Figure size 640x480 with 1 Axes>"
      ]
     },
     "metadata": {},
     "output_type": "display_data"
    }
   ],
   "source": [
    "G = nx.Graph()\n",
    "G.add_edges_from([(1, 2), (1, 3), (1, 4), (3, 6), (4, 5), (4, 6), (5, 6)])\n",
    "\n",
    "# Get the degree of each node\n",
    "degree_dict = dict(G.degree())\n",
    "\n",
    "# Create a list of node sizes based on the degree of each node\n",
    "node_sizes = [degree * 500 for degree in degree_dict.values()]  # Scale the size by 500 for better visibility\n",
    "\n",
    "# Draw the graph with node sizes proportional to their degree\n",
    "nx.draw(G, with_labels=True, node_color='skyblue', node_size=node_sizes, font_size=12, font_weight='bold', edge_color='gray')\n",
    "\n",
    "# Display the graph\n",
    "plt.show()"
   ]
  },
  {
   "cell_type": "code",
   "execution_count": 131,
   "metadata": {},
   "outputs": [],
   "source": [
    "# graph_path = 'C:\\\\Users\\\\venus\\\\Desktop\\\\spreading influence identification\\\\datasets\\\\BA_EXP\\\\ba_edgelist_exp1_8000_4.edges'\n",
    "# # graph_path = 'C:\\\\Users\\\\venus\\\\Desktop\\\\spreading influence identification\\\\datasets\\\\BA_EXP\\\\ba_edgelist_exp3_4000_6.edges'\n",
    "# G = nx.read_edgelist(graph_path, comments=\"%\", nodetype=int)\n",
    "# len(G.nodes())\n",
    "# # Get the degree of each node\n",
    "# degree_dict = dict(G.degree())\n",
    "\n",
    "# Create a list of node sizes based on the degree of each node\n",
    "# node_sizes = [degree * 500 for degree in degree_dict.values()]  # Scale the size by 500 for better visibility\n"
   ]
  },
  {
   "cell_type": "markdown",
   "metadata": {},
   "source": [
    "## WiD1"
   ]
  },
  {
   "cell_type": "code",
   "execution_count": 132,
   "metadata": {},
   "outputs": [],
   "source": [
    "csv_filename = 'file_with_WiD1.csv'\n",
    "\n",
    "sorted_nodes = sorted(degree_dict.items())\n",
    "# Write the data to the CSV file\n",
    "with open(csv_filename, mode='w', newline='') as file:\n",
    "    writer = csv.writer(file)\n",
    "    \n",
    "    # Write the header\n",
    "    writer.writerow(['Node', 'WiD1'])\n",
    "    \n",
    "    # Write the node and degree data\n",
    "    for node, degree in sorted_nodes:\n",
    "        writer.writerow([node, degree])\n",
    "df = pd.read_csv(csv_filename)\n",
    "# df.style.hide(axis='index')\n",
    "\n"
   ]
  },
  {
   "cell_type": "markdown",
   "metadata": {},
   "source": [
    "## WiD2"
   ]
  },
  {
   "cell_type": "code",
   "execution_count": 133,
   "metadata": {},
   "outputs": [],
   "source": [
    "df = pd.read_csv(csv_filename)\n",
    "def compute_WiD2(row):\n",
    "    node = row['Node']\n",
    "    neighbors = list(G.neighbors(node))\n",
    "    \n",
    "    # Sum the WiD1 value of the node and its neighbors\n",
    "    total_WiD1 = row['WiD1'] + sum(df[df['Node'].isin(neighbors)]['WiD1'])\n",
    "    return total_WiD1\n",
    "\n",
    "# Apply the function to create the WiD2 column\n",
    "df['WiD2'] = df.apply(compute_WiD2, axis=1)\n",
    "# Save the updated DataFrame to a new CSV if needed\n",
    "csv_filename = 'updated_file_with_WiD2.csv'\n",
    "df.to_csv(csv_filename, index=False)\n",
    "\n",
    "# df.style.hide(axis='index')\n"
   ]
  },
  {
   "cell_type": "markdown",
   "metadata": {},
   "source": [
    "## WiD3"
   ]
  },
  {
   "cell_type": "code",
   "execution_count": 134,
   "metadata": {},
   "outputs": [
    {
     "data": {
      "text/html": [
       "<style type=\"text/css\">\n",
       "</style>\n",
       "<table id=\"T_387ae\">\n",
       "  <thead>\n",
       "    <tr>\n",
       "      <th id=\"T_387ae_level0_col0\" class=\"col_heading level0 col0\" >Node</th>\n",
       "      <th id=\"T_387ae_level0_col1\" class=\"col_heading level0 col1\" >WiD1</th>\n",
       "      <th id=\"T_387ae_level0_col2\" class=\"col_heading level0 col2\" >WiD2</th>\n",
       "      <th id=\"T_387ae_level0_col3\" class=\"col_heading level0 col3\" >WiD3</th>\n",
       "    </tr>\n",
       "  </thead>\n",
       "  <tbody>\n",
       "    <tr>\n",
       "      <td id=\"T_387ae_row0_col0\" class=\"data row0 col0\" >1</td>\n",
       "      <td id=\"T_387ae_row0_col1\" class=\"data row0 col1\" >3</td>\n",
       "      <td id=\"T_387ae_row0_col2\" class=\"data row0 col2\" >9</td>\n",
       "      <td id=\"T_387ae_row0_col3\" class=\"data row0 col3\" >32</td>\n",
       "    </tr>\n",
       "    <tr>\n",
       "      <td id=\"T_387ae_row1_col0\" class=\"data row1 col0\" >2</td>\n",
       "      <td id=\"T_387ae_row1_col1\" class=\"data row1 col1\" >1</td>\n",
       "      <td id=\"T_387ae_row1_col2\" class=\"data row1 col2\" >4</td>\n",
       "      <td id=\"T_387ae_row1_col3\" class=\"data row1 col3\" >13</td>\n",
       "    </tr>\n",
       "    <tr>\n",
       "      <td id=\"T_387ae_row2_col0\" class=\"data row2 col0\" >3</td>\n",
       "      <td id=\"T_387ae_row2_col1\" class=\"data row2 col1\" >2</td>\n",
       "      <td id=\"T_387ae_row2_col2\" class=\"data row2 col2\" >8</td>\n",
       "      <td id=\"T_387ae_row2_col3\" class=\"data row2 col3\" >27</td>\n",
       "    </tr>\n",
       "    <tr>\n",
       "      <td id=\"T_387ae_row3_col0\" class=\"data row3 col0\" >4</td>\n",
       "      <td id=\"T_387ae_row3_col1\" class=\"data row3 col1\" >3</td>\n",
       "      <td id=\"T_387ae_row3_col2\" class=\"data row3 col2\" >11</td>\n",
       "      <td id=\"T_387ae_row3_col3\" class=\"data row3 col3\" >38</td>\n",
       "    </tr>\n",
       "    <tr>\n",
       "      <td id=\"T_387ae_row4_col0\" class=\"data row4 col0\" >5</td>\n",
       "      <td id=\"T_387ae_row4_col1\" class=\"data row4 col1\" >2</td>\n",
       "      <td id=\"T_387ae_row4_col2\" class=\"data row4 col2\" >8</td>\n",
       "      <td id=\"T_387ae_row4_col3\" class=\"data row4 col3\" >29</td>\n",
       "    </tr>\n",
       "    <tr>\n",
       "      <td id=\"T_387ae_row5_col0\" class=\"data row5 col0\" >6</td>\n",
       "      <td id=\"T_387ae_row5_col1\" class=\"data row5 col1\" >3</td>\n",
       "      <td id=\"T_387ae_row5_col2\" class=\"data row5 col2\" >10</td>\n",
       "      <td id=\"T_387ae_row5_col3\" class=\"data row5 col3\" >37</td>\n",
       "    </tr>\n",
       "  </tbody>\n",
       "</table>\n"
      ],
      "text/plain": [
       "<pandas.io.formats.style.Styler at 0x24026669400>"
      ]
     },
     "execution_count": 134,
     "metadata": {},
     "output_type": "execute_result"
    }
   ],
   "source": [
    "df = pd.read_csv(csv_filename)\n",
    "def compute_WiD3(row):\n",
    "    node = row['Node']\n",
    "    neighbors = list(G.neighbors(node))\n",
    "    \n",
    "    # Sum the WiD2 value of the node and its neighbors\n",
    "    sum_WiD2 = row['WiD2'] + sum(df[df['Node'].isin(neighbors)]['WiD2'])\n",
    "    return sum_WiD2\n",
    "\n",
    "# Apply the function to create the WiD2 column\n",
    "df['WiD3'] = df.apply(compute_WiD3, axis=1)\n",
    "\n",
    "# Save the updated DataFrame to a new CSV if needed\n",
    "csv_filename = 'updated_file_with_WiD3.csv'\n",
    "df.to_csv(csv_filename, index=False)\n",
    "df.style.hide(axis='index')\n"
   ]
  },
  {
   "cell_type": "code",
   "execution_count": 135,
   "metadata": {},
   "outputs": [
    {
     "data": {
      "text/html": [
       "<style type=\"text/css\">\n",
       "</style>\n",
       "<table id=\"T_bc0cb\">\n",
       "  <thead>\n",
       "    <tr>\n",
       "      <th id=\"T_bc0cb_level0_col0\" class=\"col_heading level0 col0\" >Node</th>\n",
       "      <th id=\"T_bc0cb_level0_col1\" class=\"col_heading level0 col1\" >WiD1</th>\n",
       "      <th id=\"T_bc0cb_level0_col2\" class=\"col_heading level0 col2\" >WiD2</th>\n",
       "      <th id=\"T_bc0cb_level0_col3\" class=\"col_heading level0 col3\" >WiD3</th>\n",
       "    </tr>\n",
       "  </thead>\n",
       "  <tbody>\n",
       "    <tr>\n",
       "      <td id=\"T_bc0cb_row0_col0\" class=\"data row0 col0\" >1</td>\n",
       "      <td id=\"T_bc0cb_row0_col1\" class=\"data row0 col1\" >3</td>\n",
       "      <td id=\"T_bc0cb_row0_col2\" class=\"data row0 col2\" >9</td>\n",
       "      <td id=\"T_bc0cb_row0_col3\" class=\"data row0 col3\" >32</td>\n",
       "    </tr>\n",
       "    <tr>\n",
       "      <td id=\"T_bc0cb_row1_col0\" class=\"data row1 col0\" >2</td>\n",
       "      <td id=\"T_bc0cb_row1_col1\" class=\"data row1 col1\" >1</td>\n",
       "      <td id=\"T_bc0cb_row1_col2\" class=\"data row1 col2\" >4</td>\n",
       "      <td id=\"T_bc0cb_row1_col3\" class=\"data row1 col3\" >13</td>\n",
       "    </tr>\n",
       "    <tr>\n",
       "      <td id=\"T_bc0cb_row2_col0\" class=\"data row2 col0\" >3</td>\n",
       "      <td id=\"T_bc0cb_row2_col1\" class=\"data row2 col1\" >2</td>\n",
       "      <td id=\"T_bc0cb_row2_col2\" class=\"data row2 col2\" >8</td>\n",
       "      <td id=\"T_bc0cb_row2_col3\" class=\"data row2 col3\" >27</td>\n",
       "    </tr>\n",
       "    <tr>\n",
       "      <td id=\"T_bc0cb_row3_col0\" class=\"data row3 col0\" >4</td>\n",
       "      <td id=\"T_bc0cb_row3_col1\" class=\"data row3 col1\" >3</td>\n",
       "      <td id=\"T_bc0cb_row3_col2\" class=\"data row3 col2\" >11</td>\n",
       "      <td id=\"T_bc0cb_row3_col3\" class=\"data row3 col3\" >38</td>\n",
       "    </tr>\n",
       "    <tr>\n",
       "      <td id=\"T_bc0cb_row4_col0\" class=\"data row4 col0\" >5</td>\n",
       "      <td id=\"T_bc0cb_row4_col1\" class=\"data row4 col1\" >2</td>\n",
       "      <td id=\"T_bc0cb_row4_col2\" class=\"data row4 col2\" >8</td>\n",
       "      <td id=\"T_bc0cb_row4_col3\" class=\"data row4 col3\" >29</td>\n",
       "    </tr>\n",
       "    <tr>\n",
       "      <td id=\"T_bc0cb_row5_col0\" class=\"data row5 col0\" >6</td>\n",
       "      <td id=\"T_bc0cb_row5_col1\" class=\"data row5 col1\" >3</td>\n",
       "      <td id=\"T_bc0cb_row5_col2\" class=\"data row5 col2\" >10</td>\n",
       "      <td id=\"T_bc0cb_row5_col3\" class=\"data row5 col3\" >37</td>\n",
       "    </tr>\n",
       "  </tbody>\n",
       "</table>\n"
      ],
      "text/plain": [
       "<pandas.io.formats.style.Styler at 0x240271ecfb0>"
      ]
     },
     "execution_count": 135,
     "metadata": {},
     "output_type": "execute_result"
    },
    {
     "data": {
      "image/png": "[encoded data removed]",
      "text/plain": [
       "<Figure size 640x480 with 1 Axes>"
      ]
     },
     "metadata": {},
     "output_type": "display_data"
    }
   ],
   "source": [
    "\n",
    "nx.draw(G, with_labels=True, node_color='skyblue', node_size=node_sizes, font_size=12, font_weight='bold', edge_color='gray')\n",
    "\n",
    "df.style.hide(axis='index')"
   ]
  },
  {
   "cell_type": "markdown",
   "metadata": {},
   "source": [
    "# WiH1"
   ]
  },
  {
   "cell_type": "code",
   "execution_count": 136,
   "metadata": {},
   "outputs": [
    {
     "data": {
      "text/html": [
       "<style type=\"text/css\">\n",
       "</style>\n",
       "<table id=\"T_13376\">\n",
       "  <thead>\n",
       "    <tr>\n",
       "      <th id=\"T_13376_level0_col0\" class=\"col_heading level0 col0\" >Node</th>\n",
       "      <th id=\"T_13376_level0_col1\" class=\"col_heading level0 col1\" >WiD1</th>\n",
       "      <th id=\"T_13376_level0_col2\" class=\"col_heading level0 col2\" >WiD2</th>\n",
       "      <th id=\"T_13376_level0_col3\" class=\"col_heading level0 col3\" >WiD3</th>\n",
       "      <th id=\"T_13376_level0_col4\" class=\"col_heading level0 col4\" >WiH1</th>\n",
       "    </tr>\n",
       "  </thead>\n",
       "  <tbody>\n",
       "    <tr>\n",
       "      <td id=\"T_13376_row0_col0\" class=\"data row0 col0\" >1</td>\n",
       "      <td id=\"T_13376_row0_col1\" class=\"data row0 col1\" >3</td>\n",
       "      <td id=\"T_13376_row0_col2\" class=\"data row0 col2\" >9</td>\n",
       "      <td id=\"T_13376_row0_col3\" class=\"data row0 col3\" >32</td>\n",
       "      <td id=\"T_13376_row0_col4\" class=\"data row0 col4\" >2</td>\n",
       "    </tr>\n",
       "    <tr>\n",
       "      <td id=\"T_13376_row1_col0\" class=\"data row1 col0\" >2</td>\n",
       "      <td id=\"T_13376_row1_col1\" class=\"data row1 col1\" >1</td>\n",
       "      <td id=\"T_13376_row1_col2\" class=\"data row1 col2\" >4</td>\n",
       "      <td id=\"T_13376_row1_col3\" class=\"data row1 col3\" >13</td>\n",
       "      <td id=\"T_13376_row1_col4\" class=\"data row1 col4\" >1</td>\n",
       "    </tr>\n",
       "    <tr>\n",
       "      <td id=\"T_13376_row2_col0\" class=\"data row2 col0\" >3</td>\n",
       "      <td id=\"T_13376_row2_col1\" class=\"data row2 col1\" >2</td>\n",
       "      <td id=\"T_13376_row2_col2\" class=\"data row2 col2\" >8</td>\n",
       "      <td id=\"T_13376_row2_col3\" class=\"data row2 col3\" >27</td>\n",
       "      <td id=\"T_13376_row2_col4\" class=\"data row2 col4\" >2</td>\n",
       "    </tr>\n",
       "    <tr>\n",
       "      <td id=\"T_13376_row3_col0\" class=\"data row3 col0\" >4</td>\n",
       "      <td id=\"T_13376_row3_col1\" class=\"data row3 col1\" >3</td>\n",
       "      <td id=\"T_13376_row3_col2\" class=\"data row3 col2\" >11</td>\n",
       "      <td id=\"T_13376_row3_col3\" class=\"data row3 col3\" >38</td>\n",
       "      <td id=\"T_13376_row3_col4\" class=\"data row3 col4\" >2</td>\n",
       "    </tr>\n",
       "    <tr>\n",
       "      <td id=\"T_13376_row4_col0\" class=\"data row4 col0\" >5</td>\n",
       "      <td id=\"T_13376_row4_col1\" class=\"data row4 col1\" >2</td>\n",
       "      <td id=\"T_13376_row4_col2\" class=\"data row4 col2\" >8</td>\n",
       "      <td id=\"T_13376_row4_col3\" class=\"data row4 col3\" >29</td>\n",
       "      <td id=\"T_13376_row4_col4\" class=\"data row4 col4\" >2</td>\n",
       "    </tr>\n",
       "    <tr>\n",
       "      <td id=\"T_13376_row5_col0\" class=\"data row5 col0\" >6</td>\n",
       "      <td id=\"T_13376_row5_col1\" class=\"data row5 col1\" >3</td>\n",
       "      <td id=\"T_13376_row5_col2\" class=\"data row5 col2\" >10</td>\n",
       "      <td id=\"T_13376_row5_col3\" class=\"data row5 col3\" >37</td>\n",
       "      <td id=\"T_13376_row5_col4\" class=\"data row5 col4\" >2</td>\n",
       "    </tr>\n",
       "  </tbody>\n",
       "</table>\n"
      ],
      "text/plain": [
       "<pandas.io.formats.style.Styler at 0x2402714f620>"
      ]
     },
     "execution_count": 136,
     "metadata": {},
     "output_type": "execute_result"
    }
   ],
   "source": [
    "\n",
    "def calculate_WiH1(G, df):\n",
    "    # Convert the 'Node' column to index for quick lookups\n",
    "    df.set_index('Node', inplace=True)\n",
    "    WiH1_values = []\n",
    "    # Iterate over each node in the DataFrame\n",
    "    for node in df.index:\n",
    "        # Get neighbors of the node\n",
    "        neighbors = G.neighbors(node)\n",
    "\n",
    "        # Build SHi: collect the WiD1 values of all neighbors\n",
    "        SHi = [df.at[neighbor, 'WiD1'] for neighbor in neighbors if neighbor in df.index]\n",
    "\n",
    "        # Sort SHi in descending order for easier processing\n",
    "        SHi_sorted = sorted(SHi, reverse=True)\n",
    "\n",
    "        # Determine the largest h such that there are at least h elements >= h\n",
    "        h = 0\n",
    "        for i, value in enumerate(SHi_sorted):\n",
    "            if value >= (i + 1):  # i+1 because list is 0-indexed\n",
    "                h = i + 1\n",
    "            else:\n",
    "                break\n",
    "\n",
    "        # Store WiH1 for the node\n",
    "        WiH1_values.append(h)\n",
    "\n",
    "    # Add WiH1 to the DataFrame\n",
    "    df['WiH1'] = WiH1_values\n",
    "\n",
    "    # Reset index if needed\n",
    "    df.reset_index(inplace=True)\n",
    "    return df\n",
    "\n",
    "df = calculate_WiH1(G, df)\n",
    "csv_filename = 'updated_file_with_WiH1.csv'\n",
    "df.to_csv(csv_filename, index=False)\n",
    "df.style.hide(axis=0)"
   ]
  },
  {
   "cell_type": "code",
   "execution_count": 137,
   "metadata": {},
   "outputs": [
    {
     "data": {
      "text/html": [
       "<style type=\"text/css\">\n",
       "</style>\n",
       "<table id=\"T_32a77\">\n",
       "  <thead>\n",
       "    <tr>\n",
       "      <th id=\"T_32a77_level0_col0\" class=\"col_heading level0 col0\" >Node</th>\n",
       "      <th id=\"T_32a77_level0_col1\" class=\"col_heading level0 col1\" >WiD1</th>\n",
       "      <th id=\"T_32a77_level0_col2\" class=\"col_heading level0 col2\" >WiD2</th>\n",
       "      <th id=\"T_32a77_level0_col3\" class=\"col_heading level0 col3\" >WiD3</th>\n",
       "      <th id=\"T_32a77_level0_col4\" class=\"col_heading level0 col4\" >WiH1</th>\n",
       "      <th id=\"T_32a77_level0_col5\" class=\"col_heading level0 col5\" >WiH2</th>\n",
       "    </tr>\n",
       "  </thead>\n",
       "  <tbody>\n",
       "    <tr>\n",
       "      <td id=\"T_32a77_row0_col0\" class=\"data row0 col0\" >1</td>\n",
       "      <td id=\"T_32a77_row0_col1\" class=\"data row0 col1\" >3</td>\n",
       "      <td id=\"T_32a77_row0_col2\" class=\"data row0 col2\" >9</td>\n",
       "      <td id=\"T_32a77_row0_col3\" class=\"data row0 col3\" >32</td>\n",
       "      <td id=\"T_32a77_row0_col4\" class=\"data row0 col4\" >2</td>\n",
       "      <td id=\"T_32a77_row0_col5\" class=\"data row0 col5\" >7</td>\n",
       "    </tr>\n",
       "    <tr>\n",
       "      <td id=\"T_32a77_row1_col0\" class=\"data row1 col0\" >2</td>\n",
       "      <td id=\"T_32a77_row1_col1\" class=\"data row1 col1\" >1</td>\n",
       "      <td id=\"T_32a77_row1_col2\" class=\"data row1 col2\" >4</td>\n",
       "      <td id=\"T_32a77_row1_col3\" class=\"data row1 col3\" >13</td>\n",
       "      <td id=\"T_32a77_row1_col4\" class=\"data row1 col4\" >1</td>\n",
       "      <td id=\"T_32a77_row1_col5\" class=\"data row1 col5\" >3</td>\n",
       "    </tr>\n",
       "    <tr>\n",
       "      <td id=\"T_32a77_row2_col0\" class=\"data row2 col0\" >3</td>\n",
       "      <td id=\"T_32a77_row2_col1\" class=\"data row2 col1\" >2</td>\n",
       "      <td id=\"T_32a77_row2_col2\" class=\"data row2 col2\" >8</td>\n",
       "      <td id=\"T_32a77_row2_col3\" class=\"data row2 col3\" >27</td>\n",
       "      <td id=\"T_32a77_row2_col4\" class=\"data row2 col4\" >2</td>\n",
       "      <td id=\"T_32a77_row2_col5\" class=\"data row2 col5\" >6</td>\n",
       "    </tr>\n",
       "    <tr>\n",
       "      <td id=\"T_32a77_row3_col0\" class=\"data row3 col0\" >4</td>\n",
       "      <td id=\"T_32a77_row3_col1\" class=\"data row3 col1\" >3</td>\n",
       "      <td id=\"T_32a77_row3_col2\" class=\"data row3 col2\" >11</td>\n",
       "      <td id=\"T_32a77_row3_col3\" class=\"data row3 col3\" >38</td>\n",
       "      <td id=\"T_32a77_row3_col4\" class=\"data row3 col4\" >2</td>\n",
       "      <td id=\"T_32a77_row3_col5\" class=\"data row3 col5\" >8</td>\n",
       "    </tr>\n",
       "    <tr>\n",
       "      <td id=\"T_32a77_row4_col0\" class=\"data row4 col0\" >5</td>\n",
       "      <td id=\"T_32a77_row4_col1\" class=\"data row4 col1\" >2</td>\n",
       "      <td id=\"T_32a77_row4_col2\" class=\"data row4 col2\" >8</td>\n",
       "      <td id=\"T_32a77_row4_col3\" class=\"data row4 col3\" >29</td>\n",
       "      <td id=\"T_32a77_row4_col4\" class=\"data row4 col4\" >2</td>\n",
       "      <td id=\"T_32a77_row4_col5\" class=\"data row4 col5\" >6</td>\n",
       "    </tr>\n",
       "    <tr>\n",
       "      <td id=\"T_32a77_row5_col0\" class=\"data row5 col0\" >6</td>\n",
       "      <td id=\"T_32a77_row5_col1\" class=\"data row5 col1\" >3</td>\n",
       "      <td id=\"T_32a77_row5_col2\" class=\"data row5 col2\" >10</td>\n",
       "      <td id=\"T_32a77_row5_col3\" class=\"data row5 col3\" >37</td>\n",
       "      <td id=\"T_32a77_row5_col4\" class=\"data row5 col4\" >2</td>\n",
       "      <td id=\"T_32a77_row5_col5\" class=\"data row5 col5\" >8</td>\n",
       "    </tr>\n",
       "  </tbody>\n",
       "</table>\n"
      ],
      "text/plain": [
       "<pandas.io.formats.style.Styler at 0x24026c58f20>"
      ]
     },
     "execution_count": 137,
     "metadata": {},
     "output_type": "execute_result"
    },
    {
     "data": {
      "image/png": "[encoded data removed]",
      "text/plain": [
       "<Figure size 640x480 with 1 Axes>"
      ]
     },
     "metadata": {},
     "output_type": "display_data"
    }
   ],
   "source": [
    "df = pd.read_csv(csv_filename)\n",
    "def compute_WiH2(row):\n",
    "    node = row['Node']\n",
    "    neighbors = list(G.neighbors(node))\n",
    "    \n",
    "    # Sum the WiD2 value of the node and its neighbors\n",
    "    sum_WiH1 = row['WiH1'] + sum(df[df['Node'].isin(neighbors)]['WiH1'])\n",
    "    return sum_WiH1\n",
    "\n",
    "# Apply the function to create the WiD2 column\n",
    "df['WiH2'] = df.apply(compute_WiH2, axis=1)\n",
    "\n",
    "# Save the updated DataFrame to a new CSV if needed\n",
    "csv_filename = 'updated_file_with_WiH2.csv'\n",
    "df.to_csv(csv_filename, index=False)\n",
    "nx.draw(G, with_labels=True, node_color='skyblue', node_size=node_sizes, font_size=12, font_weight='bold', edge_color='gray')\n",
    "df.style.hide(axis='index')\n"
   ]
  },
  {
   "cell_type": "code",
   "execution_count": 138,
   "metadata": {},
   "outputs": [
    {
     "data": {
      "text/html": [
       "<style type=\"text/css\">\n",
       "</style>\n",
       "<table id=\"T_f1b11\">\n",
       "  <thead>\n",
       "    <tr>\n",
       "      <th id=\"T_f1b11_level0_col0\" class=\"col_heading level0 col0\" >Node</th>\n",
       "      <th id=\"T_f1b11_level0_col1\" class=\"col_heading level0 col1\" >WiD1</th>\n",
       "      <th id=\"T_f1b11_level0_col2\" class=\"col_heading level0 col2\" >WiD2</th>\n",
       "      <th id=\"T_f1b11_level0_col3\" class=\"col_heading level0 col3\" >WiD3</th>\n",
       "      <th id=\"T_f1b11_level0_col4\" class=\"col_heading level0 col4\" >WiH1</th>\n",
       "      <th id=\"T_f1b11_level0_col5\" class=\"col_heading level0 col5\" >WiH2</th>\n",
       "      <th id=\"T_f1b11_level0_col6\" class=\"col_heading level0 col6\" >WiH3</th>\n",
       "    </tr>\n",
       "  </thead>\n",
       "  <tbody>\n",
       "    <tr>\n",
       "      <td id=\"T_f1b11_row0_col0\" class=\"data row0 col0\" >1</td>\n",
       "      <td id=\"T_f1b11_row0_col1\" class=\"data row0 col1\" >3</td>\n",
       "      <td id=\"T_f1b11_row0_col2\" class=\"data row0 col2\" >9</td>\n",
       "      <td id=\"T_f1b11_row0_col3\" class=\"data row0 col3\" >32</td>\n",
       "      <td id=\"T_f1b11_row0_col4\" class=\"data row0 col4\" >2</td>\n",
       "      <td id=\"T_f1b11_row0_col5\" class=\"data row0 col5\" >7</td>\n",
       "      <td id=\"T_f1b11_row0_col6\" class=\"data row0 col6\" >24</td>\n",
       "    </tr>\n",
       "    <tr>\n",
       "      <td id=\"T_f1b11_row1_col0\" class=\"data row1 col0\" >2</td>\n",
       "      <td id=\"T_f1b11_row1_col1\" class=\"data row1 col1\" >1</td>\n",
       "      <td id=\"T_f1b11_row1_col2\" class=\"data row1 col2\" >4</td>\n",
       "      <td id=\"T_f1b11_row1_col3\" class=\"data row1 col3\" >13</td>\n",
       "      <td id=\"T_f1b11_row1_col4\" class=\"data row1 col4\" >1</td>\n",
       "      <td id=\"T_f1b11_row1_col5\" class=\"data row1 col5\" >3</td>\n",
       "      <td id=\"T_f1b11_row1_col6\" class=\"data row1 col6\" >10</td>\n",
       "    </tr>\n",
       "    <tr>\n",
       "      <td id=\"T_f1b11_row2_col0\" class=\"data row2 col0\" >3</td>\n",
       "      <td id=\"T_f1b11_row2_col1\" class=\"data row2 col1\" >2</td>\n",
       "      <td id=\"T_f1b11_row2_col2\" class=\"data row2 col2\" >8</td>\n",
       "      <td id=\"T_f1b11_row2_col3\" class=\"data row2 col3\" >27</td>\n",
       "      <td id=\"T_f1b11_row2_col4\" class=\"data row2 col4\" >2</td>\n",
       "      <td id=\"T_f1b11_row2_col5\" class=\"data row2 col5\" >6</td>\n",
       "      <td id=\"T_f1b11_row2_col6\" class=\"data row2 col6\" >21</td>\n",
       "    </tr>\n",
       "    <tr>\n",
       "      <td id=\"T_f1b11_row3_col0\" class=\"data row3 col0\" >4</td>\n",
       "      <td id=\"T_f1b11_row3_col1\" class=\"data row3 col1\" >3</td>\n",
       "      <td id=\"T_f1b11_row3_col2\" class=\"data row3 col2\" >11</td>\n",
       "      <td id=\"T_f1b11_row3_col3\" class=\"data row3 col3\" >38</td>\n",
       "      <td id=\"T_f1b11_row3_col4\" class=\"data row3 col4\" >2</td>\n",
       "      <td id=\"T_f1b11_row3_col5\" class=\"data row3 col5\" >8</td>\n",
       "      <td id=\"T_f1b11_row3_col6\" class=\"data row3 col6\" >29</td>\n",
       "    </tr>\n",
       "    <tr>\n",
       "      <td id=\"T_f1b11_row4_col0\" class=\"data row4 col0\" >5</td>\n",
       "      <td id=\"T_f1b11_row4_col1\" class=\"data row4 col1\" >2</td>\n",
       "      <td id=\"T_f1b11_row4_col2\" class=\"data row4 col2\" >8</td>\n",
       "      <td id=\"T_f1b11_row4_col3\" class=\"data row4 col3\" >29</td>\n",
       "      <td id=\"T_f1b11_row4_col4\" class=\"data row4 col4\" >2</td>\n",
       "      <td id=\"T_f1b11_row4_col5\" class=\"data row4 col5\" >6</td>\n",
       "      <td id=\"T_f1b11_row4_col6\" class=\"data row4 col6\" >22</td>\n",
       "    </tr>\n",
       "    <tr>\n",
       "      <td id=\"T_f1b11_row5_col0\" class=\"data row5 col0\" >6</td>\n",
       "      <td id=\"T_f1b11_row5_col1\" class=\"data row5 col1\" >3</td>\n",
       "      <td id=\"T_f1b11_row5_col2\" class=\"data row5 col2\" >10</td>\n",
       "      <td id=\"T_f1b11_row5_col3\" class=\"data row5 col3\" >37</td>\n",
       "      <td id=\"T_f1b11_row5_col4\" class=\"data row5 col4\" >2</td>\n",
       "      <td id=\"T_f1b11_row5_col5\" class=\"data row5 col5\" >8</td>\n",
       "      <td id=\"T_f1b11_row5_col6\" class=\"data row5 col6\" >28</td>\n",
       "    </tr>\n",
       "  </tbody>\n",
       "</table>\n"
      ],
      "text/plain": [
       "<pandas.io.formats.style.Styler at 0x24026c67da0>"
      ]
     },
     "execution_count": 138,
     "metadata": {},
     "output_type": "execute_result"
    },
    {
     "data": {
      "image/png": "[encoded data removed]",
      "text/plain": [
       "<Figure size 640x480 with 1 Axes>"
      ]
     },
     "metadata": {},
     "output_type": "display_data"
    }
   ],
   "source": [
    "df = pd.read_csv(csv_filename)\n",
    "def compute_WiH3(row):\n",
    "    node = row['Node']\n",
    "    neighbors = list(G.neighbors(node))\n",
    "    \n",
    "    # Sum the WiH2 value of the node and its neighbors\n",
    "    sum_WiH2 = row['WiH2'] + sum(df[df['Node'].isin(neighbors)]['WiH2'])\n",
    "    return sum_WiH2\n",
    "\n",
    "# Apply the function to create the WiD2 column\n",
    "df['WiH3'] = df.apply(compute_WiH3, axis=1)\n",
    "\n",
    "# Save the updated DataFrame to a new CSV if needed\n",
    "csv_filename = 'updated_file_with_WiH3.csv'\n",
    "df.to_csv(csv_filename, index=False)\n",
    "nx.draw(G, with_labels=True, node_color='skyblue', node_size=node_sizes, font_size=12, font_weight='bold', edge_color='gray')\n",
    "df.style.hide(axis='index')\n"
   ]
  },
  {
   "cell_type": "markdown",
   "metadata": {},
   "source": [
    "## Will use L = 9 for now"
   ]
  },
  {
   "cell_type": "code",
   "execution_count": 139,
   "metadata": {},
   "outputs": [
    {
     "name": "stdout",
     "output_type": "stream",
     "text": [
      "E1:\n",
      "[1, 4, 3, 2]\n",
      "[[0. 1. 1. 1.]\n",
      " [1. 0. 0. 0.]\n",
      " [1. 0. 0. 0.]\n",
      " [1. 0. 0. 0.]]\n",
      "\n",
      "E2:\n",
      "[2, 1]\n",
      "[[0. 1. 0. 0.]\n",
      " [1. 0. 0. 0.]\n",
      " [0. 0. 0. 0.]\n",
      " [0. 0. 0. 0.]]\n",
      "\n",
      "E3:\n",
      "[3, 6, 1]\n",
      "[[0. 1. 1. 0.]\n",
      " [1. 0. 0. 0.]\n",
      " [1. 0. 0. 0.]\n",
      " [0. 0. 0. 0.]]\n",
      "\n",
      "E4:\n",
      "[4, 6, 1, 5]\n",
      "[[0. 1. 1. 1.]\n",
      " [1. 0. 0. 1.]\n",
      " [1. 0. 0. 0.]\n",
      " [1. 1. 0. 0.]]\n",
      "\n",
      "E5:\n",
      "[5, 4, 6]\n",
      "[[0. 1. 1. 0.]\n",
      " [1. 0. 1. 0.]\n",
      " [1. 1. 0. 0.]\n",
      " [0. 0. 0. 0.]]\n",
      "\n",
      "E6:\n",
      "[6, 4, 5, 3]\n",
      "[[0. 1. 1. 1.]\n",
      " [1. 0. 1. 0.]\n",
      " [1. 1. 0. 0.]\n",
      " [1. 0. 0. 0.]]\n",
      "\n"
     ]
    }
   ],
   "source": [
    "\n",
    "def adjancency_mat(G, node, graph_feature_path, L= 9):\n",
    "    neighbors = list(G.neighbors(node))\n",
    "    df = pd.read_csv(graph_feature_path)\n",
    "    # Ensure the DataFrame is indexed by 'Node' to make lookups easier\n",
    "    df.set_index('Node', inplace=True)\n",
    "    \n",
    "    # Sort neighbors by their WiD3 values\n",
    "    sorted_neighbors = sorted(neighbors, key=lambda x: df.at[x, 'WiD3'], reverse=True)\n",
    "    sorted_neighbors.insert(0, node) #insert node at position zero of the list \n",
    "\n",
    "    print(sorted_neighbors)\n",
    "    ad_matrix = np.zeros((L, L))\n",
    "    # Fill the adjacency matrix based on connections in G\n",
    "    for i, node_i in enumerate(sorted_neighbors[:L]):\n",
    "        for j, node_j in enumerate(sorted_neighbors[:L]):\n",
    "            if G.has_edge(node_i, node_j):  # Check if there's an edge between node_i and node_j\n",
    "                ad_matrix[i, j] = 1  # Set 1 if there is an edge\n",
    "\n",
    "    return ad_matrix\n",
    "\n",
    "\n",
    "print(\"E1:\")\n",
    "print(adjancency_mat(G, 1, csv_filename, 4))\n",
    "print()\n",
    "\n",
    "print(\"E2:\")\n",
    "print(adjancency_mat(G, 2, csv_filename, 4))\n",
    "print()\n",
    "\n",
    "print(\"E3:\")\n",
    "print(adjancency_mat(G, 3, csv_filename, 4))\n",
    "print()\n",
    "\n",
    "print(\"E4:\")\n",
    "print(adjancency_mat(G, 4, csv_filename, 4))\n",
    "print()\n",
    "\n",
    "print(\"E5:\")\n",
    "print(adjancency_mat(G, 5, csv_filename, 4))\n",
    "print()\n",
    "\n",
    "print(\"E6:\")\n",
    "print(adjancency_mat(G, 6, csv_filename, 4))\n",
    "print()\n",
    "\n",
    "\n"
   ]
  },
  {
   "cell_type": "code",
   "execution_count": null,
   "metadata": {},
   "outputs": [
    {
     "name": "stdout",
     "output_type": "stream",
     "text": [
      "[5, 4, 6]\n",
      "-------\n",
      "[[29. 38. 37.  0.]\n",
      " [38. 29.  1.  0.]\n",
      " [37.  1. 29.  0.]\n",
      " [ 0.  0.  0. 29.]]\n"
     ]
    },
    {
     "data": {
      "text/plain": [
       "array([[22., 29., 28.,  0.],\n",
       "       [29., 22.,  1.,  0.],\n",
       "       [28.,  1., 22.,  0.],\n",
       "       [ 0.,  0.,  0., 22.]])"
      ]
     },
     "execution_count": 143,
     "metadata": {},
     "output_type": "execute_result"
    }
   ],
   "source": [
    "#TODO: check whether the neighbors should be sorted with the same WiXt\n",
    "def channel_set(L, adj_matrix, G, graph_feature_path, WiXt,  node):  #wiDt= 'WiD1'\n",
    "    df = pd.read_csv(graph_feature_path)\n",
    "    # Ensure the DataFrame is indexed by 'Node' to make lookups easier\n",
    "    df.set_index('Node', inplace=True)\n",
    "\n",
    "    neighbors = list(G.neighbors(node))\n",
    "    \n",
    "    # TODO: see what changes if you sort by different things, just remember the sorting for adjacency matrix and this function should be the same\n",
    "    # sorted_neighbors = sorted(neighbors, key=lambda x: df.at[x, WiXt], reverse=True)\n",
    "    sorted_neighbors = sorted(neighbors, key=lambda x: df.at[x, 'WiD3'], reverse=True)\n",
    "    sorted_neighbors.insert(0, node) #insert node at position zero of the list \n",
    "\n",
    "    deg_chanl_set = np.zeros((L , L)) \n",
    "    for l in range(L): \n",
    "        for k in range(L):\n",
    "            if l == k: \n",
    "                deg_chanl_set[l, k] = df.at[node, WiXt]  # WiXt+ alk(which is always 0)\n",
    "            elif k != 0 and l == 0 and adj_matrix[0, k]: # if adj_matrix[0, k] is 0 then this is a zero-padding and k_node doesnt exist\n",
    "                k_node = sorted_neighbors[k]\n",
    "                deg_chanl_set[0, k] = adj_matrix[0, k] * df.at[k_node, WiXt] \n",
    "            elif l != 0 and k == 0 and adj_matrix[l, 0]!=0 : \n",
    "                l_node = sorted_neighbors[l]\n",
    "                deg_chanl_set[l, 0] = adj_matrix[l, 0] * df.at[l_node, WiXt] \n",
    "            else: \n",
    "                deg_chanl_set[l, k] = adj_matrix[l, k] \n",
    "    return deg_chanl_set\n",
    "\n",
    "L = 4\n",
    "node = 5\n",
    "ad_mat = adjancency_mat(G, node, csv_filename, L)\n",
    "print(\"-------\")\n",
    "print(channel_set(L, ad_mat, G, csv_filename, 'WiD3', node))\n",
    "\n",
    "channel_set(L, ad_mat, G, csv_filename, 'WiH3', node)"
   ]
  }
 ],
 "metadata": {
  "kernelspec": {
   "display_name": "venv",
   "language": "python",
   "name": "python3"
  },
  "language_info": {
   "codemirror_mode": {
    "name": "ipython",
    "version": 3
   },
   "file_extension": ".py",
   "mimetype": "text/x-python",
   "name": "python",
   "nbconvert_exporter": "python",
   "pygments_lexer": "ipython3",
   "version": "3.12.1"
  }
 },
 "nbformat": 4,
 "nbformat_minor": 2
}
