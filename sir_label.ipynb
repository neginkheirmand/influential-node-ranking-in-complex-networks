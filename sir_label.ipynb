{
 "cells": [
  {
   "cell_type": "code",
   "execution_count": 1,
   "metadata": {},
   "outputs": [
    {
     "name": "stdout",
     "output_type": "stream",
     "text": [
      "no display found. Using non-interactive Agg backend\n"
     ]
    }
   ],
   "source": [
    "import networkx as nx\n",
    "import ndlib.models.ModelConfig as mc\n",
    "import ndlib.models.epidemics as ep\n",
    "import numpy as np\n",
    "%matplotlib inline\n",
    "import matplotlib.pyplot as plt\n",
    "from ndlib.viz.mpl.DiffusionTrend import DiffusionTrend\n"
   ]
  },
  {
   "cell_type": "code",
   "execution_count": 2,
   "metadata": {},
   "outputs": [],
   "source": [
    "\n",
    "# Create a graph (e.g., Erdős-Rényi graph)\n",
    "# G = nx.erdos_renyi_graph(n=100, p=0.1)\n",
    "\n",
    "G = nx.read_edgelist('./datasets/BA_EXP/ba_edgelist_exp3_4000_10.edges', comments=\"%\", nodetype=int)\n"
   ]
  },
  {
   "cell_type": "code",
   "execution_count": 3,
   "metadata": {},
   "outputs": [
    {
     "data": {
      "text/plain": [
       "4000"
      ]
     },
     "execution_count": 3,
     "metadata": {},
     "output_type": "execute_result"
    }
   ],
   "source": [
    "G.number_of_nodes()"
   ]
  },
  {
   "cell_type": "code",
   "execution_count": 4,
   "metadata": {},
   "outputs": [],
   "source": [
    "\n",
    "\n",
    "# Get the mean degree (k) of the graph\n",
    "degrees = [deg for _, deg in G.degree()]\n",
    "mean_degree = np.mean(degrees)\n",
    "\n",
    "# Calculate B_Threshold\n",
    "B_Threshold = mean_degree / (mean_degree**2 - mean_degree)\n",
    "\n",
    "# Range of B values\n",
    "B_values = np.linspace(1 * B_Threshold, 1.9 * B_Threshold, 10)\n",
    "\n",
    "# Number of iterations (M)\n",
    "num_iterations = 100\n",
    "num_nodes = G.number_of_nodes()\n",
    "\n",
    "affected_scales = {}\n"
   ]
  },
  {
   "cell_type": "code",
   "execution_count": 5,
   "metadata": {},
   "outputs": [
    {
     "data": {
      "text/plain": [
       "array([0.11126565, 0.12239221, 0.13351878, 0.14464534, 0.15577191,\n",
       "       0.16689847, 0.17802503, 0.1891516 , 0.20027816, 0.21140473])"
      ]
     },
     "execution_count": 5,
     "metadata": {},
     "output_type": "execute_result"
    }
   ],
   "source": [
    "B_values"
   ]
  },
  {
   "cell_type": "code",
   "execution_count": 6,
   "metadata": {},
   "outputs": [
    {
     "name": "stderr",
     "output_type": "stream",
     "text": [
      "c:\\Users\\venus\\Desktop\\spreading influence identification\\venv\\Lib\\site-packages\\ndlib\\viz\\mpl\\DiffusionViz.py:89: UserWarning: FigureCanvasAgg is non-interactive, and thus cannot be shown\n",
      "  plt.show()\n"
     ]
    }
   ],
   "source": [
    "\n",
    "for B in B_values:\n",
    "    recovered_sum = 0  # To store the sum of recovered nodes across all iterations\n",
    "    \n",
    "    # Store trends for plotting\n",
    "    trends = []\n",
    "\n",
    "    for i in range(num_iterations):\n",
    "        # Initialize the SIR model\n",
    "        model = ep.SIRModel(G)\n",
    "        \n",
    "        # Configuration setup\n",
    "        config = mc.Configuration()\n",
    "        config.add_model_parameter('beta', B)  # Set infection rate to current B\n",
    "        config.add_model_parameter('gamma', 1.0)  # Recovery probability = 1\n",
    "        config.add_model_initial_configuration(\"Infected\", {0: 1})  # Start with node 0 infected\n",
    "        \n",
    "        # Set the model configuration\n",
    "        model.set_initial_status(config)\n",
    "        \n",
    "        # Run the model until all nodes are either recovered or susceptible\n",
    "        iteration = model.iteration_bunch(200)\n",
    "        \n",
    "        # Store trends for plotting (useful for later visualization)\n",
    "        trends.append(model.build_trends(iteration))\n",
    "\n",
    "        # Get the final state after the infection spread\n",
    "        final_state = iteration[-1]['node_count']\n",
    "        recovered_nodes = final_state[2]  # Index 2 represents 'Recovered' nodes\n",
    "        \n",
    "        recovered_sum += recovered_nodes\n",
    "    \n",
    "    # Calculate the affected scale for the current B\n",
    "    affected_scale = recovered_sum / (num_iterations * num_nodes)\n",
    "    affected_scales[round(B, 3)] = round(affected_scale, 3)\n",
    "\n",
    "    # Plot the trend for each B\n",
    "    viz = DiffusionTrend(model, trends[-1])  # Use the last iteration's trends for visualization\n",
    "    \n",
    "    plt.figure()  # Create a new figure for each plot\n",
    "    viz.plot()  # Call the plot method of the viz object\n",
    "    plt.title(f\"Diffusion Trend for B={round(B, 3)}\")\n",
    "    \n",
    "    plt.close()  # Close the plot to free memory\n"
   ]
  },
  {
   "cell_type": "code",
   "execution_count": 7,
   "metadata": {},
   "outputs": [
    {
     "name": "stdout",
     "output_type": "stream",
     "text": [
      "B = 0.111: Affected scale = 0.393\n",
      "B = 0.122: Affected scale = 0.449\n",
      "B = 0.134: Affected scale = 0.501\n",
      "B = 0.145: Affected scale = 0.551\n",
      "B = 0.156: Affected scale = 0.593\n",
      "B = 0.167: Affected scale = 0.633\n",
      "B = 0.178: Affected scale = 0.668\n",
      "B = 0.189: Affected scale = 0.703\n",
      "B = 0.2: Affected scale = 0.732\n",
      "B = 0.211: Affected scale = 0.758\n"
     ]
    }
   ],
   "source": [
    "\n",
    "# Output the affected scales for each B\n",
    "for B, scale in affected_scales.items():\n",
    "    print(f\"B = {B}: Affected scale = {scale}\")"
   ]
  }
 ],
 "metadata": {
  "kernelspec": {
   "display_name": "venv",
   "language": "python",
   "name": "python3"
  },
  "language_info": {
   "codemirror_mode": {
    "name": "ipython",
    "version": 3
   },
   "file_extension": ".py",
   "mimetype": "text/x-python",
   "name": "python",
   "nbconvert_exporter": "python",
   "pygments_lexer": "ipython3",
   "version": "3.12.1"
  }
 },
 "nbformat": 4,
 "nbformat_minor": 2
}
